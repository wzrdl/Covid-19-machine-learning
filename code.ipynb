{
  "nbformat": 4,
  "nbformat_minor": 0,
  "metadata": {
    "colab": {
      "name": "binary_clas1.ipynb",
      "provenance": [],
      "collapsed_sections": []
    },
    "kernelspec": {
      "name": "python3",
      "display_name": "Python 3"
    },
    "language_info": {
      "name": "python"
    }
  },
  "cells": [
    {
      "cell_type": "code",
      "metadata": {
        "id": "egUDwRixBSsc",
        "colab": {
          "base_uri": "https://localhost:8080/"
        },
        "outputId": "75ed21ec-91e6-423c-c963-3b6d458dcb5e"
      },
      "source": [
        "!pip install h2o"
      ],
      "execution_count": 1,
      "outputs": [
        {
          "output_type": "stream",
          "text": [
            "Collecting h2o\n",
            "  Downloading h2o-3.32.1.6.tar.gz (168.4 MB)\n",
            "\u001b[K     |████████████████████████████████| 168.4 MB 61 kB/s \n",
            "\u001b[?25hRequirement already satisfied: requests in /usr/local/lib/python3.7/dist-packages (from h2o) (2.23.0)\n",
            "Requirement already satisfied: tabulate in /usr/local/lib/python3.7/dist-packages (from h2o) (0.8.9)\n",
            "Requirement already satisfied: future in /usr/local/lib/python3.7/dist-packages (from h2o) (0.16.0)\n",
            "Collecting colorama>=0.3.8\n",
            "  Downloading colorama-0.4.4-py2.py3-none-any.whl (16 kB)\n",
            "Requirement already satisfied: chardet<4,>=3.0.2 in /usr/local/lib/python3.7/dist-packages (from requests->h2o) (3.0.4)\n",
            "Requirement already satisfied: idna<3,>=2.5 in /usr/local/lib/python3.7/dist-packages (from requests->h2o) (2.10)\n",
            "Requirement already satisfied: certifi>=2017.4.17 in /usr/local/lib/python3.7/dist-packages (from requests->h2o) (2021.5.30)\n",
            "Requirement already satisfied: urllib3!=1.25.0,!=1.25.1,<1.26,>=1.21.1 in /usr/local/lib/python3.7/dist-packages (from requests->h2o) (1.24.3)\n",
            "Building wheels for collected packages: h2o\n",
            "  Building wheel for h2o (setup.py) ... \u001b[?25l\u001b[?25hdone\n",
            "  Created wheel for h2o: filename=h2o-3.32.1.6-py2.py3-none-any.whl size=168439194 sha256=8ef45c4b5a1709670eb755c2489e56ab77eccd8d57b0a1055b678c6dcab03b0b\n",
            "  Stored in directory: /root/.cache/pip/wheels/ee/0f/51/849ba221c4c1b11a04efb4a3427dc9cb1c4dcde218c6c98b13\n",
            "Successfully built h2o\n",
            "Installing collected packages: colorama, h2o\n",
            "Successfully installed colorama-0.4.4 h2o-3.32.1.6\n"
          ],
          "name": "stdout"
        }
      ]
    },
    {
      "cell_type": "code",
      "metadata": {
        "id": "UXQ44XKRokeu",
        "colab": {
          "base_uri": "https://localhost:8080/"
        },
        "outputId": "545d8324-035c-4f6d-f8ce-c50f512be68c"
      },
      "source": [
        "import pandas as pd\n",
        "from pandas import Series,DataFrame\n",
        "import numpy as np\n",
        "import matplotlib.pyplot as plt\n",
        "import seaborn as sns\n",
        "from sklearn.linear_model import LogisticRegression\n",
        "from sklearn.svm import SVC, LinearSVC\n",
        "from sklearn.ensemble import RandomForestClassifier,GradientBoostingClassifier\n",
        "from sklearn.neighbors import KNeighborsClassifier\n",
        "from sklearn.naive_bayes import GaussianNB\n",
        "import xgboost as xgb\n",
        "import statsmodels.api as sm\n",
        "from xgboost.sklearn import XGBClassifier\n",
        "from sklearn import metrics\n",
        "from sklearn.model_selection import GridSearchCV\n",
        "import lightgbm as lgb\n",
        "import time, warnings, h2o, logging, os, sys, psutil, random\n",
        "from h2o.automl import H2OAutoML\n",
        "from h2o.estimators.random_forest import H2ORandomForestEstimator\n",
        "from h2o.estimators.gbm import H2OGradientBoostingEstimator\n",
        "from h2o.estimators.stackedensemble import H2OStackedEnsembleEstimator\n",
        "from h2o.grid.grid_search import H2OGridSearch\n",
        "from h2o.estimators import H2OXGBoostEstimator\n",
        "import warnings\n",
        "from sklearn.model_selection import train_test_split, cross_val_score, GridSearchCV, cross_validate\n",
        "from sklearn.metrics import accuracy_score, log_loss, roc_auc_score\n",
        "sns.set_style('whitegrid')\n",
        "%matplotlib inline"
      ],
      "execution_count": 2,
      "outputs": [
        {
          "output_type": "stream",
          "text": [
            "/usr/local/lib/python3.7/dist-packages/statsmodels/tools/_testing.py:19: FutureWarning: pandas.util.testing is deprecated. Use the functions in the public API at pandas.testing instead.\n",
            "  import pandas.util.testing as tm\n"
          ],
          "name": "stderr"
        }
      ]
    },
    {
      "cell_type": "markdown",
      "metadata": {
        "id": "wGfnE1t43TwQ"
      },
      "source": [
        "# Data preprocessing"
      ]
    },
    {
      "cell_type": "code",
      "metadata": {
        "id": "8lywNmpRNIkG",
        "colab": {
          "base_uri": "https://localhost:8080/",
          "height": 451
        },
        "outputId": "9292e7c6-3b95-4837-b059-5de28c6f4a97"
      },
      "source": [
        "train_df = pd.read_csv(\"/content/qt_dataset.csv\",encoding='utf-8',index_col=0)\n",
        "train_df"
      ],
      "execution_count": 4,
      "outputs": [
        {
          "output_type": "execute_result",
          "data": {
            "text/html": [
              "<div>\n",
              "<style scoped>\n",
              "    .dataframe tbody tr th:only-of-type {\n",
              "        vertical-align: middle;\n",
              "    }\n",
              "\n",
              "    .dataframe tbody tr th {\n",
              "        vertical-align: top;\n",
              "    }\n",
              "\n",
              "    .dataframe thead th {\n",
              "        text-align: right;\n",
              "    }\n",
              "</style>\n",
              "<table border=\"1\" class=\"dataframe\">\n",
              "  <thead>\n",
              "    <tr style=\"text-align: right;\">\n",
              "      <th></th>\n",
              "      <th>Oxy</th>\n",
              "      <th>Pulse</th>\n",
              "      <th>Temp</th>\n",
              "      <th>Result</th>\n",
              "    </tr>\n",
              "    <tr>\n",
              "      <th>ID</th>\n",
              "      <th></th>\n",
              "      <th></th>\n",
              "      <th></th>\n",
              "      <th></th>\n",
              "    </tr>\n",
              "  </thead>\n",
              "  <tbody>\n",
              "    <tr>\n",
              "      <th>0</th>\n",
              "      <td>98</td>\n",
              "      <td>65</td>\n",
              "      <td>95</td>\n",
              "      <td>Negative</td>\n",
              "    </tr>\n",
              "    <tr>\n",
              "      <th>1</th>\n",
              "      <td>96</td>\n",
              "      <td>92</td>\n",
              "      <td>95</td>\n",
              "      <td>Negative</td>\n",
              "    </tr>\n",
              "    <tr>\n",
              "      <th>2</th>\n",
              "      <td>95</td>\n",
              "      <td>92</td>\n",
              "      <td>99</td>\n",
              "      <td>Negative</td>\n",
              "    </tr>\n",
              "    <tr>\n",
              "      <th>3</th>\n",
              "      <td>97</td>\n",
              "      <td>56</td>\n",
              "      <td>96</td>\n",
              "      <td>Negative</td>\n",
              "    </tr>\n",
              "    <tr>\n",
              "      <th>4</th>\n",
              "      <td>88</td>\n",
              "      <td>94</td>\n",
              "      <td>98</td>\n",
              "      <td>Positive</td>\n",
              "    </tr>\n",
              "    <tr>\n",
              "      <th>...</th>\n",
              "      <td>...</td>\n",
              "      <td>...</td>\n",
              "      <td>...</td>\n",
              "      <td>...</td>\n",
              "    </tr>\n",
              "    <tr>\n",
              "      <th>9995</th>\n",
              "      <td>95</td>\n",
              "      <td>124</td>\n",
              "      <td>97</td>\n",
              "      <td>Negative</td>\n",
              "    </tr>\n",
              "    <tr>\n",
              "      <th>9996</th>\n",
              "      <td>88</td>\n",
              "      <td>70</td>\n",
              "      <td>100</td>\n",
              "      <td>Positive</td>\n",
              "    </tr>\n",
              "    <tr>\n",
              "      <th>9997</th>\n",
              "      <td>99</td>\n",
              "      <td>56</td>\n",
              "      <td>105</td>\n",
              "      <td>Negative</td>\n",
              "    </tr>\n",
              "    <tr>\n",
              "      <th>9998</th>\n",
              "      <td>92</td>\n",
              "      <td>49</td>\n",
              "      <td>98</td>\n",
              "      <td>Positive</td>\n",
              "    </tr>\n",
              "    <tr>\n",
              "      <th>9999</th>\n",
              "      <td>85</td>\n",
              "      <td>52</td>\n",
              "      <td>99</td>\n",
              "      <td>Positive</td>\n",
              "    </tr>\n",
              "  </tbody>\n",
              "</table>\n",
              "<p>10000 rows × 4 columns</p>\n",
              "</div>"
            ],
            "text/plain": [
              "      Oxy  Pulse  Temp    Result\n",
              "ID                              \n",
              "0      98     65    95  Negative\n",
              "1      96     92    95  Negative\n",
              "2      95     92    99  Negative\n",
              "3      97     56    96  Negative\n",
              "4      88     94    98  Positive\n",
              "...   ...    ...   ...       ...\n",
              "9995   95    124    97  Negative\n",
              "9996   88     70   100  Positive\n",
              "9997   99     56   105  Negative\n",
              "9998   92     49    98  Positive\n",
              "9999   85     52    99  Positive\n",
              "\n",
              "[10000 rows x 4 columns]"
            ]
          },
          "metadata": {},
          "execution_count": 4
        }
      ]
    },
    {
      "cell_type": "code",
      "metadata": {
        "colab": {
          "base_uri": "https://localhost:8080/",
          "height": 235
        },
        "id": "rjO5WM3KNL71",
        "outputId": "a8f71248-524a-46a1-c276-bd190fa1b95c"
      },
      "source": [
        "train_df.head()"
      ],
      "execution_count": 5,
      "outputs": [
        {
          "output_type": "execute_result",
          "data": {
            "text/html": [
              "<div>\n",
              "<style scoped>\n",
              "    .dataframe tbody tr th:only-of-type {\n",
              "        vertical-align: middle;\n",
              "    }\n",
              "\n",
              "    .dataframe tbody tr th {\n",
              "        vertical-align: top;\n",
              "    }\n",
              "\n",
              "    .dataframe thead th {\n",
              "        text-align: right;\n",
              "    }\n",
              "</style>\n",
              "<table border=\"1\" class=\"dataframe\">\n",
              "  <thead>\n",
              "    <tr style=\"text-align: right;\">\n",
              "      <th></th>\n",
              "      <th>Oxy</th>\n",
              "      <th>Pulse</th>\n",
              "      <th>Temp</th>\n",
              "      <th>Result</th>\n",
              "    </tr>\n",
              "    <tr>\n",
              "      <th>ID</th>\n",
              "      <th></th>\n",
              "      <th></th>\n",
              "      <th></th>\n",
              "      <th></th>\n",
              "    </tr>\n",
              "  </thead>\n",
              "  <tbody>\n",
              "    <tr>\n",
              "      <th>0</th>\n",
              "      <td>98</td>\n",
              "      <td>65</td>\n",
              "      <td>95</td>\n",
              "      <td>Negative</td>\n",
              "    </tr>\n",
              "    <tr>\n",
              "      <th>1</th>\n",
              "      <td>96</td>\n",
              "      <td>92</td>\n",
              "      <td>95</td>\n",
              "      <td>Negative</td>\n",
              "    </tr>\n",
              "    <tr>\n",
              "      <th>2</th>\n",
              "      <td>95</td>\n",
              "      <td>92</td>\n",
              "      <td>99</td>\n",
              "      <td>Negative</td>\n",
              "    </tr>\n",
              "    <tr>\n",
              "      <th>3</th>\n",
              "      <td>97</td>\n",
              "      <td>56</td>\n",
              "      <td>96</td>\n",
              "      <td>Negative</td>\n",
              "    </tr>\n",
              "    <tr>\n",
              "      <th>4</th>\n",
              "      <td>88</td>\n",
              "      <td>94</td>\n",
              "      <td>98</td>\n",
              "      <td>Positive</td>\n",
              "    </tr>\n",
              "  </tbody>\n",
              "</table>\n",
              "</div>"
            ],
            "text/plain": [
              "    Oxy  Pulse  Temp    Result\n",
              "ID                            \n",
              "0    98     65    95  Negative\n",
              "1    96     92    95  Negative\n",
              "2    95     92    99  Negative\n",
              "3    97     56    96  Negative\n",
              "4    88     94    98  Positive"
            ]
          },
          "metadata": {},
          "execution_count": 5
        }
      ]
    },
    {
      "cell_type": "code",
      "metadata": {
        "colab": {
          "base_uri": "https://localhost:8080/",
          "height": 297
        },
        "id": "dOWZREh-O8Rm",
        "outputId": "967c7db0-c673-487a-f6f8-228d18b1b09b"
      },
      "source": [
        "train_df.describe()"
      ],
      "execution_count": 6,
      "outputs": [
        {
          "output_type": "execute_result",
          "data": {
            "text/html": [
              "<div>\n",
              "<style scoped>\n",
              "    .dataframe tbody tr th:only-of-type {\n",
              "        vertical-align: middle;\n",
              "    }\n",
              "\n",
              "    .dataframe tbody tr th {\n",
              "        vertical-align: top;\n",
              "    }\n",
              "\n",
              "    .dataframe thead th {\n",
              "        text-align: right;\n",
              "    }\n",
              "</style>\n",
              "<table border=\"1\" class=\"dataframe\">\n",
              "  <thead>\n",
              "    <tr style=\"text-align: right;\">\n",
              "      <th></th>\n",
              "      <th>Oxy</th>\n",
              "      <th>Pulse</th>\n",
              "      <th>Temp</th>\n",
              "    </tr>\n",
              "  </thead>\n",
              "  <tbody>\n",
              "    <tr>\n",
              "      <th>count</th>\n",
              "      <td>10000.000000</td>\n",
              "      <td>10000.000000</td>\n",
              "      <td>10000.000000</td>\n",
              "    </tr>\n",
              "    <tr>\n",
              "      <th>mean</th>\n",
              "      <td>92.548900</td>\n",
              "      <td>84.976600</td>\n",
              "      <td>100.000700</td>\n",
              "    </tr>\n",
              "    <tr>\n",
              "      <th>std</th>\n",
              "      <td>4.611197</td>\n",
              "      <td>26.305841</td>\n",
              "      <td>3.185045</td>\n",
              "    </tr>\n",
              "    <tr>\n",
              "      <th>min</th>\n",
              "      <td>85.000000</td>\n",
              "      <td>40.000000</td>\n",
              "      <td>95.000000</td>\n",
              "    </tr>\n",
              "    <tr>\n",
              "      <th>25%</th>\n",
              "      <td>88.000000</td>\n",
              "      <td>63.000000</td>\n",
              "      <td>97.000000</td>\n",
              "    </tr>\n",
              "    <tr>\n",
              "      <th>50%</th>\n",
              "      <td>93.000000</td>\n",
              "      <td>85.000000</td>\n",
              "      <td>100.000000</td>\n",
              "    </tr>\n",
              "    <tr>\n",
              "      <th>75%</th>\n",
              "      <td>97.000000</td>\n",
              "      <td>108.000000</td>\n",
              "      <td>103.000000</td>\n",
              "    </tr>\n",
              "    <tr>\n",
              "      <th>max</th>\n",
              "      <td>100.000000</td>\n",
              "      <td>130.000000</td>\n",
              "      <td>105.000000</td>\n",
              "    </tr>\n",
              "  </tbody>\n",
              "</table>\n",
              "</div>"
            ],
            "text/plain": [
              "                Oxy         Pulse          Temp\n",
              "count  10000.000000  10000.000000  10000.000000\n",
              "mean      92.548900     84.976600    100.000700\n",
              "std        4.611197     26.305841      3.185045\n",
              "min       85.000000     40.000000     95.000000\n",
              "25%       88.000000     63.000000     97.000000\n",
              "50%       93.000000     85.000000    100.000000\n",
              "75%       97.000000    108.000000    103.000000\n",
              "max      100.000000    130.000000    105.000000"
            ]
          },
          "metadata": {},
          "execution_count": 6
        }
      ]
    },
    {
      "cell_type": "markdown",
      "metadata": {
        "id": "TQVnPXmmVa3Z"
      },
      "source": [
        "均值差不多，可以考虑归一化，但有PULSE方差过大，需要标准化"
      ]
    },
    {
      "cell_type": "code",
      "metadata": {
        "colab": {
          "base_uri": "https://localhost:8080/"
        },
        "id": "scDdwz-3gUiP",
        "outputId": "927cb5d7-5f75-4fe8-e6bc-0d6d581dc0fd"
      },
      "source": [
        "train_df.info()"
      ],
      "execution_count": 7,
      "outputs": [
        {
          "output_type": "stream",
          "text": [
            "<class 'pandas.core.frame.DataFrame'>\n",
            "Int64Index: 10000 entries, 0 to 9999\n",
            "Data columns (total 4 columns):\n",
            " #   Column  Non-Null Count  Dtype \n",
            "---  ------  --------------  ----- \n",
            " 0   Oxy     10000 non-null  int64 \n",
            " 1   Pulse   10000 non-null  int64 \n",
            " 2   Temp    10000 non-null  int64 \n",
            " 3   Result  10000 non-null  object\n",
            "dtypes: int64(3), object(1)\n",
            "memory usage: 390.6+ KB\n"
          ],
          "name": "stdout"
        }
      ]
    },
    {
      "cell_type": "markdown",
      "metadata": {
        "id": "xJsMoWydVUlL"
      },
      "source": [
        "没有缺失值哦"
      ]
    },
    {
      "cell_type": "markdown",
      "metadata": {
        "id": "HMaugmPAc35z"
      },
      "source": [
        "## label转换为数值型数据"
      ]
    },
    {
      "cell_type": "code",
      "metadata": {
        "id": "HBFBHVsaRwf-"
      },
      "source": [
        "from sklearn import preprocessing\n",
        "\n",
        "for f in train_df.columns:\n",
        "    if train_df[f].dtype=='object':\n",
        "        lbl = preprocessing.LabelEncoder()\n",
        "        lbl.fit(np.unique(list(train_df[f].values)))\n",
        "        train_df[f] = lbl.transform(list(train_df[f].values))\n",
        "        # test_df[f] = lbl.transform(list(test_df[f].values))"
      ],
      "execution_count": 8,
      "outputs": []
    },
    {
      "cell_type": "code",
      "metadata": {
        "colab": {
          "base_uri": "https://localhost:8080/"
        },
        "id": "vqbUKtx44wlN",
        "outputId": "0b07f94e-0a10-4e15-a141-1ed27f2d6f3e"
      },
      "source": [
        "train_df.isna().any()"
      ],
      "execution_count": 9,
      "outputs": [
        {
          "output_type": "execute_result",
          "data": {
            "text/plain": [
              "Oxy       False\n",
              "Pulse     False\n",
              "Temp      False\n",
              "Result    False\n",
              "dtype: bool"
            ]
          },
          "metadata": {},
          "execution_count": 9
        }
      ]
    },
    {
      "cell_type": "code",
      "metadata": {
        "colab": {
          "base_uri": "https://localhost:8080/"
        },
        "id": "jpncs8ceV7r9",
        "outputId": "7bf32134-fbe5-4654-b1d6-c96a16384c0b"
      },
      "source": [
        "train_df.info()"
      ],
      "execution_count": 10,
      "outputs": [
        {
          "output_type": "stream",
          "text": [
            "<class 'pandas.core.frame.DataFrame'>\n",
            "Int64Index: 10000 entries, 0 to 9999\n",
            "Data columns (total 4 columns):\n",
            " #   Column  Non-Null Count  Dtype\n",
            "---  ------  --------------  -----\n",
            " 0   Oxy     10000 non-null  int64\n",
            " 1   Pulse   10000 non-null  int64\n",
            " 2   Temp    10000 non-null  int64\n",
            " 3   Result  10000 non-null  int64\n",
            "dtypes: int64(4)\n",
            "memory usage: 390.6 KB\n"
          ],
          "name": "stdout"
        }
      ]
    },
    {
      "cell_type": "code",
      "metadata": {
        "colab": {
          "base_uri": "https://localhost:8080/",
          "height": 1000
        },
        "id": "DvMRxdpdU6cn",
        "outputId": "75940c94-2ef7-42db-dbea-6d20c2911576"
      },
      "source": [
        "for i in train_df.columns:\n",
        "  sns.countplot(x=i, data=train_df)\n",
        "  plt.savefig('%s.jpg'%i)\n",
        "  plt.show()\n"
      ],
      "execution_count": 11,
      "outputs": [
        {
          "output_type": "display_data",
          "data": {
            "image/png": "[encoded data removed]",
            "text/plain": [
              "<Figure size 432x288 with 1 Axes>"
            ]
          },
          "metadata": {
            "needs_background": "light"
          }
        },
        {
          "output_type": "display_data",
          "data": {
            "image/png": "[encoded data removed]",
            "text/plain": [
              "<Figure size 432x288 with 1 Axes>"
            ]
          },
          "metadata": {
            "needs_background": "light"
          }
        },
        {
          "output_type": "display_data",
          "data": {
            "image/png": "[encoded data removed]",
            "text/plain": [
              "<Figure size 432x288 with 1 Axes>"
            ]
          },
          "metadata": {
            "needs_background": "light"
          }
        },
        {
          "output_type": "display_data",
          "data": {
            "image/png": "[encoded data removed]",
            "text/plain": [
              "<Figure size 432x288 with 1 Axes>"
            ]
          },
          "metadata": {
            "needs_background": "light"
          }
        }
      ]
    },
    {
      "cell_type": "markdown",
      "metadata": {
        "id": "_7qv9W4OVGt5"
      },
      "source": [
        "Check the specific number of positive and negative samples"
      ]
    },
    {
      "cell_type": "code",
      "metadata": {
        "colab": {
          "base_uri": "https://localhost:8080/"
        },
        "id": "H-VRoi0TUw3v",
        "outputId": "36ccf7d4-6467-4976-ffbd-e19c79970935"
      },
      "source": [
        "train_df['Result'].value_counts()"
      ],
      "execution_count": 12,
      "outputs": [
        {
          "output_type": "execute_result",
          "data": {
            "text/plain": [
              "0    5010\n",
              "1    4990\n",
              "Name: Result, dtype: int64"
            ]
          },
          "metadata": {},
          "execution_count": 12
        }
      ]
    },
    {
      "cell_type": "markdown",
      "metadata": {
        "id": "HMnNxFLVXIiN"
      },
      "source": [
        "数据为均衡数据"
      ]
    },
    {
      "cell_type": "code",
      "metadata": {
        "id": "Eg-10Lh9pRok"
      },
      "source": [
        "train_df['label']=train_df['Result']\n"
      ],
      "execution_count": 13,
      "outputs": []
    },
    {
      "cell_type": "code",
      "metadata": {
        "colab": {
          "base_uri": "https://localhost:8080/",
          "height": 803
        },
        "id": "YZ9FbsUnVERP",
        "outputId": "bfed68fb-f4d3-43d0-e74d-599ee9d89397"
      },
      "source": [
        "\n",
        "for i in train_df.columns[:3]:\n",
        "  sns.countplot(x=i,hue=\"label\", data=train_df)\n",
        "  plt.legend()\n",
        "  plt.savefig('%s-result.jpg'%i)\n",
        "  plt.show()"
      ],
      "execution_count": 14,
      "outputs": [
        {
          "output_type": "display_data",
          "data": {
            "image/png": "[encoded data removed]",
            "text/plain": [
              "<Figure size 432x288 with 1 Axes>"
            ]
          },
          "metadata": {
            "needs_background": "light"
          }
        },
        {
          "output_type": "display_data",
          "data": {
            "image/png": "[encoded data removed]",
            "text/plain": [
              "<Figure size 432x288 with 1 Axes>"
            ]
          },
          "metadata": {
            "needs_background": "light"
          }
        },
        {
          "output_type": "display_data",
          "data": {
            "image/png": "[encoded data removed]",
            "text/plain": [
              "<Figure size 432x288 with 1 Axes>"
            ]
          },
          "metadata": {
            "needs_background": "light"
          }
        }
      ]
    },
    {
      "cell_type": "markdown",
      "metadata": {
        "id": "GZqy2dZOWQgE"
      },
      "source": [
        "上图有规律可循"
      ]
    },
    {
      "cell_type": "code",
      "metadata": {
        "colab": {
          "base_uri": "https://localhost:8080/"
        },
        "id": "w1Dalbx-W0Qw",
        "outputId": "db799d14-457f-4d3f-ebc1-e063f7fac234"
      },
      "source": [
        "y_train = train_df.loc[:,'label']\n",
        "X_train = train_df.drop(columns=['label','Result'])\n",
        "print(X_train.shape)\n",
        "print(X_train.columns)\n",
        "from sklearn import preprocessing\n",
        "X_train_scale = pd.DataFrame(preprocessing.scale(X_train))\n",
        "X_train_scale.columns = X_train.columns\n",
        "X_train_scale.index = X_train.index\n"
      ],
      "execution_count": 15,
      "outputs": [
        {
          "output_type": "stream",
          "text": [
            "(10000, 3)\n",
            "Index(['Oxy', 'Pulse', 'Temp'], dtype='object')\n"
          ],
          "name": "stdout"
        }
      ]
    },
    {
      "cell_type": "code",
      "metadata": {
        "colab": {
          "base_uri": "https://localhost:8080/",
          "height": 451
        },
        "id": "XitqdSUIY4ay",
        "outputId": "8847cdad-f808-4338-83a9-9021281d1efb"
      },
      "source": [
        "X_train"
      ],
      "execution_count": 16,
      "outputs": [
        {
          "output_type": "execute_result",
          "data": {
            "text/html": [
              "<div>\n",
              "<style scoped>\n",
              "    .dataframe tbody tr th:only-of-type {\n",
              "        vertical-align: middle;\n",
              "    }\n",
              "\n",
              "    .dataframe tbody tr th {\n",
              "        vertical-align: top;\n",
              "    }\n",
              "\n",
              "    .dataframe thead th {\n",
              "        text-align: right;\n",
              "    }\n",
              "</style>\n",
              "<table border=\"1\" class=\"dataframe\">\n",
              "  <thead>\n",
              "    <tr style=\"text-align: right;\">\n",
              "      <th></th>\n",
              "      <th>Oxy</th>\n",
              "      <th>Pulse</th>\n",
              "      <th>Temp</th>\n",
              "    </tr>\n",
              "    <tr>\n",
              "      <th>ID</th>\n",
              "      <th></th>\n",
              "      <th></th>\n",
              "      <th></th>\n",
              "    </tr>\n",
              "  </thead>\n",
              "  <tbody>\n",
              "    <tr>\n",
              "      <th>0</th>\n",
              "      <td>98</td>\n",
              "      <td>65</td>\n",
              "      <td>95</td>\n",
              "    </tr>\n",
              "    <tr>\n",
              "      <th>1</th>\n",
              "      <td>96</td>\n",
              "      <td>92</td>\n",
              "      <td>95</td>\n",
              "    </tr>\n",
              "    <tr>\n",
              "      <th>2</th>\n",
              "      <td>95</td>\n",
              "      <td>92</td>\n",
              "      <td>99</td>\n",
              "    </tr>\n",
              "    <tr>\n",
              "      <th>3</th>\n",
              "      <td>97</td>\n",
              "      <td>56</td>\n",
              "      <td>96</td>\n",
              "    </tr>\n",
              "    <tr>\n",
              "      <th>4</th>\n",
              "      <td>88</td>\n",
              "      <td>94</td>\n",
              "      <td>98</td>\n",
              "    </tr>\n",
              "    <tr>\n",
              "      <th>...</th>\n",
              "      <td>...</td>\n",
              "      <td>...</td>\n",
              "      <td>...</td>\n",
              "    </tr>\n",
              "    <tr>\n",
              "      <th>9995</th>\n",
              "      <td>95</td>\n",
              "      <td>124</td>\n",
              "      <td>97</td>\n",
              "    </tr>\n",
              "    <tr>\n",
              "      <th>9996</th>\n",
              "      <td>88</td>\n",
              "      <td>70</td>\n",
              "      <td>100</td>\n",
              "    </tr>\n",
              "    <tr>\n",
              "      <th>9997</th>\n",
              "      <td>99</td>\n",
              "      <td>56</td>\n",
              "      <td>105</td>\n",
              "    </tr>\n",
              "    <tr>\n",
              "      <th>9998</th>\n",
              "      <td>92</td>\n",
              "      <td>49</td>\n",
              "      <td>98</td>\n",
              "    </tr>\n",
              "    <tr>\n",
              "      <th>9999</th>\n",
              "      <td>85</td>\n",
              "      <td>52</td>\n",
              "      <td>99</td>\n",
              "    </tr>\n",
              "  </tbody>\n",
              "</table>\n",
              "<p>10000 rows × 3 columns</p>\n",
              "</div>"
            ],
            "text/plain": [
              "      Oxy  Pulse  Temp\n",
              "ID                    \n",
              "0      98     65    95\n",
              "1      96     92    95\n",
              "2      95     92    99\n",
              "3      97     56    96\n",
              "4      88     94    98\n",
              "...   ...    ...   ...\n",
              "9995   95    124    97\n",
              "9996   88     70   100\n",
              "9997   99     56   105\n",
              "9998   92     49    98\n",
              "9999   85     52    99\n",
              "\n",
              "[10000 rows x 3 columns]"
            ]
          },
          "metadata": {},
          "execution_count": 16
        }
      ]
    },
    {
      "cell_type": "markdown",
      "metadata": {
        "id": "vxJr61ImYmAW"
      },
      "source": [
        "# Calculate correlation"
      ]
    },
    {
      "cell_type": "code",
      "metadata": {
        "colab": {
          "base_uri": "https://localhost:8080/",
          "height": 141
        },
        "id": "UqFUY0UQXiWm",
        "outputId": "fc0fa5db-18b2-4e64-d9c9-f9df889d6734"
      },
      "source": [
        "X_train.corr()"
      ],
      "execution_count": 17,
      "outputs": [
        {
          "output_type": "execute_result",
          "data": {
            "text/html": [
              "<div>\n",
              "<style scoped>\n",
              "    .dataframe tbody tr th:only-of-type {\n",
              "        vertical-align: middle;\n",
              "    }\n",
              "\n",
              "    .dataframe tbody tr th {\n",
              "        vertical-align: top;\n",
              "    }\n",
              "\n",
              "    .dataframe thead th {\n",
              "        text-align: right;\n",
              "    }\n",
              "</style>\n",
              "<table border=\"1\" class=\"dataframe\">\n",
              "  <thead>\n",
              "    <tr style=\"text-align: right;\">\n",
              "      <th></th>\n",
              "      <th>Oxy</th>\n",
              "      <th>Pulse</th>\n",
              "      <th>Temp</th>\n",
              "    </tr>\n",
              "  </thead>\n",
              "  <tbody>\n",
              "    <tr>\n",
              "      <th>Oxy</th>\n",
              "      <td>1.000000</td>\n",
              "      <td>-0.005724</td>\n",
              "      <td>-0.015681</td>\n",
              "    </tr>\n",
              "    <tr>\n",
              "      <th>Pulse</th>\n",
              "      <td>-0.005724</td>\n",
              "      <td>1.000000</td>\n",
              "      <td>0.009602</td>\n",
              "    </tr>\n",
              "    <tr>\n",
              "      <th>Temp</th>\n",
              "      <td>-0.015681</td>\n",
              "      <td>0.009602</td>\n",
              "      <td>1.000000</td>\n",
              "    </tr>\n",
              "  </tbody>\n",
              "</table>\n",
              "</div>"
            ],
            "text/plain": [
              "            Oxy     Pulse      Temp\n",
              "Oxy    1.000000 -0.005724 -0.015681\n",
              "Pulse -0.005724  1.000000  0.009602\n",
              "Temp  -0.015681  0.009602  1.000000"
            ]
          },
          "metadata": {},
          "execution_count": 17
        }
      ]
    },
    {
      "cell_type": "code",
      "metadata": {
        "colab": {
          "base_uri": "https://localhost:8080/",
          "height": 656
        },
        "id": "Pe0mzvDAXjt4",
        "outputId": "4f801e0f-db61-4135-fa2b-552b08ec3411"
      },
      "source": [
        "counter=0\n",
        "plt_cnt=0\n",
        "for columns in X_train:\n",
        "    if counter == 0:\n",
        "        df_heat= pd.DataFrame(train_df[\"label\"])\n",
        "        plt_cnt=plt_cnt+1\n",
        "    if counter<3:\n",
        "        counter=counter+1\n",
        "        df_heat[columns]= + train_df[columns]\n",
        "    if counter==3:\n",
        "        print(\"Plot Number: \" , plt_cnt)\n",
        "        plt.figure(figsize=(20,12))\n",
        "        sns.heatmap(data=df_heat.iloc[:,:].corr(),annot=True,fmt='.2f',cmap='coolwarm')\n",
        "        plt.savefig('1.jpg',dpi=300)\n",
        "        plt.show()\n",
        "        \n",
        "        counter=0\n",
        "        df_heat=df_heat.iloc[0:0]"
      ],
      "execution_count": 18,
      "outputs": [
        {
          "output_type": "stream",
          "text": [
            "Plot Number:  1\n"
          ],
          "name": "stdout"
        },
        {
          "output_type": "display_data",
          "data": {
            "image/png": "[encoded data removed]",
            "text/plain": [
              "<Figure size 1440x864 with 2 Axes>"
            ]
          },
          "metadata": {
            "needs_background": "light"
          }
        }
      ]
    },
    {
      "cell_type": "markdown",
      "metadata": {
        "id": "tt1He4o03MJU"
      },
      "source": [
        "# confuse_matrix"
      ]
    },
    {
      "cell_type": "code",
      "metadata": {
        "id": "dGAml72Xmhnv"
      },
      "source": [
        "# 混淆矩阵\n",
        "def plot_confuse_matrix(matrix):\n",
        "  sns.set()\n",
        "  f,ax=plt.subplots()\n",
        "  sns.heatmap(matrix,annot=True,fmt='.20g',cmap=\"Blues\",ax=ax)\n",
        "  ax.set_title('confusion matrix') \n",
        "  ax.set_xlabel('predict') \n",
        "  ax.set_ylabel('true') \n",
        "  plt.savefig('confuse_matrix.jpg')\n",
        "  plt.show()"
      ],
      "execution_count": 19,
      "outputs": []
    },
    {
      "cell_type": "markdown",
      "metadata": {
        "id": "bu2zUf3ys_no"
      },
      "source": [
        "# logisticRegression"
      ]
    },
    {
      "cell_type": "code",
      "metadata": {
        "id": "ak3dNyt5Zllr"
      },
      "source": [
        "\n",
        "columns_name = X_train.columns"
      ],
      "execution_count": 20,
      "outputs": []
    },
    {
      "cell_type": "code",
      "metadata": {
        "id": "NllpYpfyXoTR"
      },
      "source": [
        "lr = LogisticRegression(random_state=0)"
      ],
      "execution_count": 21,
      "outputs": []
    },
    {
      "cell_type": "code",
      "metadata": {
        "id": "0aPuihAhYoKp"
      },
      "source": [
        "Xlog_train, Xlog_test, ylog_train, ylog_test = train_test_split(X_train,y_train,test_size=0.2)\n"
      ],
      "execution_count": 22,
      "outputs": []
    },
    {
      "cell_type": "code",
      "metadata": {
        "colab": {
          "base_uri": "https://localhost:8080/"
        },
        "id": "BOFOpwo6YrTZ",
        "outputId": "fc4f04bb-4947-4190-d3d2-d51b674717fc"
      },
      "source": [
        "print (Xlog_train.shape, ylog_train.shape)\n",
        "print (Xlog_test.shape, ylog_test.shape)"
      ],
      "execution_count": 23,
      "outputs": [
        {
          "output_type": "stream",
          "text": [
            "(8000, 3) (8000,)\n",
            "(2000, 3) (2000,)\n"
          ],
          "name": "stdout"
        }
      ]
    },
    {
      "cell_type": "code",
      "metadata": {
        "colab": {
          "base_uri": "https://localhost:8080/"
        },
        "id": "ndm-_gJbY1Vw",
        "outputId": "9f9043ef-8f00-4b7a-e25d-7982538fb4ca"
      },
      "source": [
        "results_logistic = lr.fit(Xlog_train, ylog_train)\n",
        "print (results_logistic)"
      ],
      "execution_count": 24,
      "outputs": [
        {
          "output_type": "stream",
          "text": [
            "LogisticRegression(C=1.0, class_weight=None, dual=False, fit_intercept=True,\n",
            "                   intercept_scaling=1, l1_ratio=None, max_iter=100,\n",
            "                   multi_class='auto', n_jobs=None, penalty='l2',\n",
            "                   random_state=0, solver='lbfgs', tol=0.0001, verbose=0,\n",
            "                   warm_start=False)\n"
          ],
          "name": "stdout"
        }
      ]
    },
    {
      "cell_type": "code",
      "metadata": {
        "colab": {
          "base_uri": "https://localhost:8080/"
        },
        "id": "Iv-ojqonZ_V5",
        "outputId": "e159ea41-9a9d-437d-bc71-810089cb03ee"
      },
      "source": [
        "ylog_pred = lr.predict(Xlog_test)\n",
        "ylog_pred"
      ],
      "execution_count": 25,
      "outputs": [
        {
          "output_type": "execute_result",
          "data": {
            "text/plain": [
              "array([1, 0, 1, ..., 1, 1, 0])"
            ]
          },
          "metadata": {},
          "execution_count": 25
        }
      ]
    },
    {
      "cell_type": "code",
      "metadata": {
        "colab": {
          "base_uri": "https://localhost:8080/",
          "height": 1000
        },
        "id": "I1OVxfRmaCCZ",
        "outputId": "44220498-53f9-4a22-9639-458c0a83c636"
      },
      "source": [
        "import scipy.stats as stats\n",
        "from sklearn.metrics import *\n",
        "r, p = stats.pearsonr(ylog_test, ylog_pred)\n",
        "print('Person Correlation coefficient,', r, p)\n",
        "print('Precision',precision_score(ylog_test, ylog_pred,average='micro'))\n",
        "print('Recall',recall_score(ylog_test, ylog_pred,average='micro'))\n",
        "print('F1-score',f1_score(ylog_test, ylog_pred,average='micro'))\n",
        "print('Confusion Matrix\\n',confusion_matrix(ylog_test, ylog_pred ))\n",
        "print('Classification Report\\n',classification_report(ylog_test, ylog_pred))\n",
        "fpr, tpr, thresholds = metrics.roc_curve(ylog_test, ylog_pred, pos_label=2)\n",
        "print('TPR',thresholds)\n",
        "print('FPR',fpr)\n",
        "PPv = precision_score(ylog_test, ylog_pred)\n",
        "print('PPV',PPv)\n",
        "def calculate_metric(gt, pred):\n",
        "    pred[pred>0.5]=1\n",
        "    pred[pred<1]=0\n",
        "    confusion = confusion_matrix(gt,pred)\n",
        "    TP = confusion[1, 1]\n",
        "    TN = confusion[0, 0]\n",
        "    FP = confusion[0, 1]\n",
        "    FN = confusion[1, 0]\n",
        "    plot_confuse_matrix(confusion)\n",
        "    print('Accuracy:',(TP+TN)/float(TP+TN+FP+FN))\n",
        "    print('Sensitivity:',TP / float(TP+FN))\n",
        "    print('Specificity:',TN / float(TN+FP))\n",
        "calculate_metric(ylog_test, ylog_pred)\n",
        "from sklearn.metrics import roc_curve\n",
        "ylog_pred = ylog_pred.reshape(-1,1)\n",
        "print(ylog_pred.shape)\n",
        "from sklearn.metrics import auc\n",
        "\n",
        "def plot_roc():\n",
        "    false_positive_rate,true_positive_rate,thresholds=roc_curve(ylog_test, ylog_pred)\n",
        "    roc_auc=auc(false_positive_rate, true_positive_rate)\n",
        "    plt.title('ROC')\n",
        "    plt.plot(false_positive_rate, true_positive_rate,'b',label='AUC = %0.4f'% roc_auc)\n",
        "    plt.legend(loc='lower right')\n",
        "    plt.plot([0,1],[0,1],'r--')\n",
        "    plt.ylabel('TPR')\n",
        "    plt.xlabel('FPR')\n",
        "    plt.savefig('roc.jpg')\n",
        "plot_roc()"
      ],
      "execution_count": 26,
      "outputs": [
        {
          "output_type": "stream",
          "text": [
            "Person Correlation coefficient, 0.8380899045773657 0.0\n",
            "Precision 0.919\n",
            "Recall 0.919\n",
            "F1-score 0.919\n",
            "Confusion Matrix\n",
            " [[918  74]\n",
            " [ 88 920]]\n",
            "Classification Report\n",
            "               precision    recall  f1-score   support\n",
            "\n",
            "           0       0.91      0.93      0.92       992\n",
            "           1       0.93      0.91      0.92      1008\n",
            "\n",
            "    accuracy                           0.92      2000\n",
            "   macro avg       0.92      0.92      0.92      2000\n",
            "weighted avg       0.92      0.92      0.92      2000\n",
            "\n"
          ],
          "name": "stdout"
        },
        {
          "output_type": "stream",
          "text": [
            "/usr/local/lib/python3.7/dist-packages/sklearn/metrics/_ranking.py:808: UndefinedMetricWarning: No positive samples in y_true, true positive value should be meaningless\n",
            "  UndefinedMetricWarning)\n"
          ],
          "name": "stderr"
        },
        {
          "output_type": "stream",
          "text": [
            "TPR [2 1 0]\n",
            "FPR [0.    0.497 1.   ]\n",
            "PPV 0.9255533199195171\n"
          ],
          "name": "stdout"
        },
        {
          "output_type": "display_data",
          "data": {
            "image/png": "[encoded data removed]",
            "text/plain": [
              "<Figure size 432x288 with 2 Axes>"
            ]
          },
          "metadata": {}
        },
        {
          "output_type": "stream",
          "text": [
            "Accuracy: 0.919\n",
            "Sensitivity: 0.9126984126984127\n",
            "Specificity: 0.9254032258064516\n",
            "(2000, 1)\n"
          ],
          "name": "stdout"
        },
        {
          "output_type": "display_data",
          "data": {
            "image/png": "[encoded data removed]",
            "text/plain": [
              "<Figure size 432x288 with 1 Axes>"
            ]
          },
          "metadata": {}
        }
      ]
    },
    {
      "cell_type": "markdown",
      "metadata": {
        "id": "ZRqGzP9pu3-S"
      },
      "source": [
        "## 对比标准化和没有标准化的结果"
      ]
    },
    {
      "cell_type": "code",
      "metadata": {
        "colab": {
          "base_uri": "https://localhost:8080/",
          "height": 1000
        },
        "id": "H3qHrt0GbsxO",
        "outputId": "7135c873-55c9-4396-a38c-d4fa06c92aa6"
      },
      "source": [
        "Xlog_train_scale, Xlog_test_scale, ylog_train, ylog_test = train_test_split(X_train_scale,y_train,test_size=0.2)\n",
        "\n",
        "results_logistic_scale = lr.fit(Xlog_train_scale, ylog_train)\n",
        "ylog_pred = lr.predict(Xlog_test_scale)\n",
        "import scipy.stats as stats\n",
        "from sklearn.metrics import *\n",
        "r, p = stats.pearsonr(ylog_test, ylog_pred)\n",
        "print('Person Correlation coefficient,', r, p)\n",
        "print('Precision',precision_score(ylog_test, ylog_pred,average='micro'))\n",
        "print('Recall',recall_score(ylog_test, ylog_pred,average='micro'))\n",
        "print('F1-score',f1_score(ylog_test, ylog_pred,average='micro'))\n",
        "print('Confusion Matrix\\n',confusion_matrix(ylog_test, ylog_pred ))\n",
        "print('Classification Report\\n',classification_report(ylog_test, ylog_pred))\n",
        "fpr, tpr, thresholds = metrics.roc_curve(ylog_test, ylog_pred, pos_label=2)\n",
        "print('TPR',thresholds)\n",
        "print('FPR',fpr)\n",
        "PPv = precision_score(ylog_test, ylog_pred)\n",
        "print('PPV',PPv)\n",
        "def calculate_metric(gt, pred):\n",
        "    pred[pred>0.5]=1\n",
        "    pred[pred<1]=0\n",
        "    confusion = confusion_matrix(gt,pred)\n",
        "    TP = confusion[1, 1]\n",
        "    TN = confusion[0, 0]\n",
        "    FP = confusion[0, 1]\n",
        "    FN = confusion[1, 0]\n",
        "    plot_confuse_matrix(confusion)\n",
        "\n",
        "    print('Accuracy:',(TP+TN)/float(TP+TN+FP+FN))\n",
        "    print('Sensitivity:',TP / float(TP+FN))\n",
        "    print('Specificity:',TN / float(TN+FP))\n",
        "calculate_metric(ylog_test, ylog_pred)\n",
        "from sklearn.metrics import roc_curve\n",
        "ylog_pred = ylog_pred.reshape(-1,1)\n",
        "print(ylog_pred.shape)\n",
        "from sklearn.metrics import auc\n",
        "\n",
        "\n",
        "plot_roc()"
      ],
      "execution_count": 27,
      "outputs": [
        {
          "output_type": "stream",
          "text": [
            "Person Correlation coefficient, 0.8440158654078387 0.0\n",
            "Precision 0.922\n",
            "Recall 0.922\n",
            "F1-score 0.922\n",
            "Confusion Matrix\n",
            " [[940  72]\n",
            " [ 84 904]]\n",
            "Classification Report\n",
            "               precision    recall  f1-score   support\n",
            "\n",
            "           0       0.92      0.93      0.92      1012\n",
            "           1       0.93      0.91      0.92       988\n",
            "\n",
            "    accuracy                           0.92      2000\n",
            "   macro avg       0.92      0.92      0.92      2000\n",
            "weighted avg       0.92      0.92      0.92      2000\n",
            "\n"
          ],
          "name": "stdout"
        },
        {
          "output_type": "stream",
          "text": [
            "/usr/local/lib/python3.7/dist-packages/sklearn/metrics/_ranking.py:808: UndefinedMetricWarning: No positive samples in y_true, true positive value should be meaningless\n",
            "  UndefinedMetricWarning)\n"
          ],
          "name": "stderr"
        },
        {
          "output_type": "stream",
          "text": [
            "TPR [2 1 0]\n",
            "FPR [0.    0.488 1.   ]\n",
            "PPV 0.9262295081967213\n"
          ],
          "name": "stdout"
        },
        {
          "output_type": "display_data",
          "data": {
            "image/png": "[encoded data removed]",
            "text/plain": [
              "<Figure size 432x288 with 2 Axes>"
            ]
          },
          "metadata": {}
        },
        {
          "output_type": "stream",
          "text": [
            "Accuracy: 0.922\n",
            "Sensitivity: 0.9149797570850202\n",
            "Specificity: 0.9288537549407114\n",
            "(2000, 1)\n"
          ],
          "name": "stdout"
        },
        {
          "output_type": "display_data",
          "data": {
            "image/png": "[encoded data removed]",
            "text/plain": [
              "<Figure size 432x288 with 1 Axes>"
            ]
          },
          "metadata": {}
        }
      ]
    },
    {
      "cell_type": "code",
      "metadata": {
        "id": "oPzjIOuld4mU"
      },
      "source": [
        "#上面证明我们标准化是对结果有积极影响 所以我们接下来均使用标准化的数据进行训练测试\n",
        "Xlog_train = Xlog_train_scale\n",
        "Xlog_test = Xlog_test_scale"
      ],
      "execution_count": 28,
      "outputs": []
    },
    {
      "cell_type": "markdown",
      "metadata": {
        "id": "wUV6Vwol304h"
      },
      "source": [
        "# DT"
      ]
    },
    {
      "cell_type": "code",
      "metadata": {
        "colab": {
          "base_uri": "https://localhost:8080/",
          "height": 1000
        },
        "id": "yd7WgH3F33Q5",
        "outputId": "45c132b6-6264-4d39-ef76-ff1c36bd5cb3"
      },
      "source": [
        "\n",
        "from sklearn import tree\n",
        "clf = tree.DecisionTreeClassifier()\n",
        "clf = clf.fit(Xlog_train, ylog_train)\n",
        "ylog_pred =clf.predict(Xlog_test)\n",
        "import scipy.stats as stats\n",
        "from sklearn.metrics import *\n",
        "# r, p = stats.pearsonr(ylog_test, ylog_pred)\n",
        "print('Person Correlation coefficient,', r, p)\n",
        "print('Precision',precision_score(ylog_test, ylog_pred,average='micro'))\n",
        "print('Recall',recall_score(ylog_test, ylog_pred,average='micro'))\n",
        "print('F1-score',f1_score(ylog_test, ylog_pred,average='micro'))\n",
        "print('Confusion Matrix\\n',confusion_matrix(ylog_test, ylog_pred ))\n",
        "# 4、模型报告\n",
        "print('Classification Report\\n',classification_report(ylog_test, ylog_pred))\n",
        "fpr, tpr, thresholds = metrics.roc_curve(ylog_test, ylog_pred, pos_label=2)\n",
        "print('TPR',thresholds)\n",
        "print('FPR',fpr)\n",
        "PPv = precision_score(ylog_test, ylog_pred)\n",
        "print('PPV',PPv)\n",
        "def calculate_metric(gt, pred):\n",
        "    pred[pred>0.5]=1\n",
        "    pred[pred<1]=0\n",
        "    confusion = confusion_matrix(gt,pred)\n",
        "    TP = confusion[1, 1]\n",
        "    TN = confusion[0, 0]\n",
        "    FP = confusion[0, 1]\n",
        "    FN = confusion[1, 0]\n",
        "    plot_confuse_matrix(confusion)\n",
        "\n",
        "    print('Accuracy:',(TP+TN)/float(TP+TN+FP+FN))\n",
        "    print('Sensitivity:',TP / float(TP+FN))\n",
        "    print('Specificity:',TN / float(TN+FP))\n",
        "calculate_metric(ylog_test, ylog_pred)\n",
        "from sklearn.metrics import roc_curve\n",
        "ylog_pred = ylog_pred.reshape(-1,1)\n",
        "print(ylog_pred.shape)\n",
        "from sklearn.metrics import auc\n",
        "\n",
        "\n",
        "plot_roc()"
      ],
      "execution_count": 29,
      "outputs": [
        {
          "output_type": "stream",
          "text": [
            "Person Correlation coefficient, 0.8440158654078387 0.0\n",
            "Precision 1.0\n",
            "Recall 1.0\n",
            "F1-score 1.0\n",
            "Confusion Matrix\n",
            " [[1012    0]\n",
            " [   0  988]]\n",
            "Classification Report\n",
            "               precision    recall  f1-score   support\n",
            "\n",
            "           0       1.00      1.00      1.00      1012\n",
            "           1       1.00      1.00      1.00       988\n",
            "\n",
            "    accuracy                           1.00      2000\n",
            "   macro avg       1.00      1.00      1.00      2000\n",
            "weighted avg       1.00      1.00      1.00      2000\n",
            "\n"
          ],
          "name": "stdout"
        },
        {
          "output_type": "stream",
          "text": [
            "/usr/local/lib/python3.7/dist-packages/sklearn/metrics/_ranking.py:808: UndefinedMetricWarning: No positive samples in y_true, true positive value should be meaningless\n",
            "  UndefinedMetricWarning)\n"
          ],
          "name": "stderr"
        },
        {
          "output_type": "stream",
          "text": [
            "TPR [2 1 0]\n",
            "FPR [0.    0.494 1.   ]\n",
            "PPV 1.0\n"
          ],
          "name": "stdout"
        },
        {
          "output_type": "display_data",
          "data": {
            "image/png": "[encoded data removed]",
            "text/plain": [
              "<Figure size 432x288 with 2 Axes>"
            ]
          },
          "metadata": {}
        },
        {
          "output_type": "stream",
          "text": [
            "Accuracy: 1.0\n",
            "Sensitivity: 1.0\n",
            "Specificity: 1.0\n",
            "(2000, 1)\n"
          ],
          "name": "stdout"
        },
        {
          "output_type": "display_data",
          "data": {
            "image/png": "[encoded data removed]",
            "text/plain": [
              "<Figure size 432x288 with 1 Axes>"
            ]
          },
          "metadata": {}
        }
      ]
    },
    {
      "cell_type": "markdown",
      "metadata": {
        "id": "_8WuvXrllKrb"
      },
      "source": [
        "# SVM"
      ]
    },
    {
      "cell_type": "code",
      "metadata": {
        "colab": {
          "base_uri": "https://localhost:8080/",
          "height": 1000
        },
        "id": "bL62AnCtlD2B",
        "outputId": "ed8bbf75-5570-4267-dafd-6f3ed809f22e"
      },
      "source": [
        "clf = SVC()\n",
        "clf = clf.fit(Xlog_train, ylog_train)\n",
        "ylog_pred =clf.predict(Xlog_test)\n",
        "import scipy.stats as stats\n",
        "from sklearn.metrics import *\n",
        "# r, p = stats.pearsonr(ylog_test, ylog_pred)\n",
        "print('Person Correlation coefficient,', r, p)\n",
        "print('Precision',precision_score(ylog_test, ylog_pred,average='micro'))\n",
        "print('Recall',recall_score(ylog_test, ylog_pred,average='micro'))\n",
        "print('F1-score',f1_score(ylog_test, ylog_pred,average='micro'))\n",
        "print('Confusion Matrix\\n',confusion_matrix(ylog_test, ylog_pred ))\n",
        "# 4、模型报告\n",
        "print('Classification Report\\n',classification_report(ylog_test, ylog_pred))\n",
        "fpr, tpr, thresholds = metrics.roc_curve(ylog_test, ylog_pred, pos_label=2)\n",
        "print('TPR',thresholds)\n",
        "print('FPR',fpr)\n",
        "PPv = precision_score(ylog_test, ylog_pred)\n",
        "print('PPV',PPv)\n",
        "def calculate_metric(gt, pred):\n",
        "    pred[pred>0.5]=1\n",
        "    pred[pred<1]=0\n",
        "    confusion = confusion_matrix(gt,pred)\n",
        "    TP = confusion[1, 1]\n",
        "    TN = confusion[0, 0]\n",
        "    FP = confusion[0, 1]\n",
        "    FN = confusion[1, 0]\n",
        "    plot_confuse_matrix(confusion)\n",
        "\n",
        "    print('Accuracy:',(TP+TN)/float(TP+TN+FP+FN))\n",
        "    print('Sensitivity:',TP / float(TP+FN))\n",
        "    print('Specificity:',TN / float(TN+FP))\n",
        "calculate_metric(ylog_test, ylog_pred)\n",
        "from sklearn.metrics import roc_curve\n",
        "ylog_pred = ylog_pred.reshape(-1,1)\n",
        "print(ylog_pred.shape)\n",
        "from sklearn.metrics import auc\n",
        "\n",
        "plot_roc()"
      ],
      "execution_count": 30,
      "outputs": [
        {
          "output_type": "stream",
          "text": [
            "Person Correlation coefficient, 0.8440158654078387 0.0\n",
            "Precision 0.97\n",
            "Recall 0.97\n",
            "F1-score 0.97\n",
            "Confusion Matrix\n",
            " [[982  30]\n",
            " [ 30 958]]\n",
            "Classification Report\n",
            "               precision    recall  f1-score   support\n",
            "\n",
            "           0       0.97      0.97      0.97      1012\n",
            "           1       0.97      0.97      0.97       988\n",
            "\n",
            "    accuracy                           0.97      2000\n",
            "   macro avg       0.97      0.97      0.97      2000\n",
            "weighted avg       0.97      0.97      0.97      2000\n",
            "\n"
          ],
          "name": "stdout"
        },
        {
          "output_type": "stream",
          "text": [
            "/usr/local/lib/python3.7/dist-packages/sklearn/metrics/_ranking.py:808: UndefinedMetricWarning: No positive samples in y_true, true positive value should be meaningless\n",
            "  UndefinedMetricWarning)\n"
          ],
          "name": "stderr"
        },
        {
          "output_type": "stream",
          "text": [
            "TPR [2 1 0]\n",
            "FPR [0.    0.494 1.   ]\n",
            "PPV 0.9696356275303644\n"
          ],
          "name": "stdout"
        },
        {
          "output_type": "display_data",
          "data": {
            "image/png": "[encoded data removed]",
            "text/plain": [
              "<Figure size 432x288 with 2 Axes>"
            ]
          },
          "metadata": {}
        },
        {
          "output_type": "stream",
          "text": [
            "Accuracy: 0.97\n",
            "Sensitivity: 0.9696356275303644\n",
            "Specificity: 0.9703557312252964\n",
            "(2000, 1)\n"
          ],
          "name": "stdout"
        },
        {
          "output_type": "display_data",
          "data": {
            "image/png": "[encoded data removed]",
            "text/plain": [
              "<Figure size 432x288 with 1 Axes>"
            ]
          },
          "metadata": {}
        }
      ]
    },
    {
      "cell_type": "markdown",
      "metadata": {
        "id": "6IJk8luU4jMP"
      },
      "source": [
        "# nb"
      ]
    },
    {
      "cell_type": "code",
      "metadata": {
        "colab": {
          "base_uri": "https://localhost:8080/",
          "height": 1000
        },
        "id": "ar-ftFVi4msS",
        "outputId": "9e22fc5b-e979-416b-e48c-6b97eccfa1e2"
      },
      "source": [
        "from sklearn.naive_bayes import GaussianNB\n",
        "clf = GaussianNB()\n",
        "clf = clf.fit(Xlog_train, ylog_train)\n",
        "ylog_pred =clf.predict(Xlog_test)\n",
        "import scipy.stats as stats\n",
        "from sklearn.metrics import *\n",
        "# r, p = stats.pearsonr(ylog_test, ylog_pred)\n",
        "print('Person Correlation coefficient,', r, p)\n",
        "print('Precision',precision_score(ylog_test, ylog_pred,average='micro'))\n",
        "print('Recall',recall_score(ylog_test, ylog_pred,average='micro'))\n",
        "print('F1-score',f1_score(ylog_test, ylog_pred,average='micro'))\n",
        "print('Confusion Matrix\\n',confusion_matrix(ylog_test, ylog_pred ))\n",
        "# 4、模型报告\n",
        "print('Classification Report\\n',classification_report(ylog_test, ylog_pred))\n",
        "fpr, tpr, thresholds = metrics.roc_curve(ylog_test, ylog_pred, pos_label=2)\n",
        "print('TPR',thresholds)\n",
        "print('FPR',fpr)\n",
        "PPv = precision_score(ylog_test, ylog_pred)\n",
        "print('PPV',PPv)\n",
        "def calculate_metric(gt, pred):\n",
        "    pred[pred>0.5]=1\n",
        "    pred[pred<1]=0\n",
        "    confusion = confusion_matrix(gt,pred)\n",
        "    TP = confusion[1, 1]\n",
        "    TN = confusion[0, 0]\n",
        "    FP = confusion[0, 1]\n",
        "    FN = confusion[1, 0]\n",
        "    plot_confuse_matrix(confusion)\n",
        "    print('Accuracy:',(TP+TN)/float(TP+TN+FP+FN))\n",
        "    print('Sensitivity:',TP / float(TP+FN))\n",
        "    print('Specificity:',TN / float(TN+FP))\n",
        "calculate_metric(ylog_test, ylog_pred)\n",
        "from sklearn.metrics import roc_curve\n",
        "ylog_pred = ylog_pred.reshape(-1,1)\n",
        "print(ylog_pred.shape)\n",
        "from sklearn.metrics import auc\n",
        "\n",
        "\n",
        "plot_roc()"
      ],
      "execution_count": 31,
      "outputs": [
        {
          "output_type": "stream",
          "text": [
            "Person Correlation coefficient, 0.8440158654078387 0.0\n",
            "Precision 0.8865\n",
            "Recall 0.8865\n",
            "F1-score 0.8865\n",
            "Confusion Matrix\n",
            " [[907 105]\n",
            " [122 866]]\n",
            "Classification Report\n",
            "               precision    recall  f1-score   support\n",
            "\n",
            "           0       0.88      0.90      0.89      1012\n",
            "           1       0.89      0.88      0.88       988\n",
            "\n",
            "    accuracy                           0.89      2000\n",
            "   macro avg       0.89      0.89      0.89      2000\n",
            "weighted avg       0.89      0.89      0.89      2000\n",
            "\n"
          ],
          "name": "stdout"
        },
        {
          "output_type": "stream",
          "text": [
            "/usr/local/lib/python3.7/dist-packages/sklearn/metrics/_ranking.py:808: UndefinedMetricWarning: No positive samples in y_true, true positive value should be meaningless\n",
            "  UndefinedMetricWarning)\n"
          ],
          "name": "stderr"
        },
        {
          "output_type": "stream",
          "text": [
            "TPR [2 1 0]\n",
            "FPR [0.     0.4855 1.    ]\n",
            "PPV 0.8918640576725025\n"
          ],
          "name": "stdout"
        },
        {
          "output_type": "display_data",
          "data": {
            "image/png": "[encoded data removed]",
            "text/plain": [
              "<Figure size 432x288 with 2 Axes>"
            ]
          },
          "metadata": {}
        },
        {
          "output_type": "stream",
          "text": [
            "Accuracy: 0.8865\n",
            "Sensitivity: 0.8765182186234818\n",
            "Specificity: 0.8962450592885376\n",
            "(2000, 1)\n"
          ],
          "name": "stdout"
        },
        {
          "output_type": "display_data",
          "data": {
            "image/png": "[encoded data removed]",
            "text/plain": [
              "<Figure size 432x288 with 1 Axes>"
            ]
          },
          "metadata": {}
        }
      ]
    },
    {
      "cell_type": "code",
      "metadata": {
        "colab": {
          "base_uri": "https://localhost:8080/",
          "height": 357
        },
        "id": "GFyPhTvRu_0M",
        "outputId": "ae800f17-e26f-401f-f8fb-2d97208694e7"
      },
      "source": [
        "import math\n",
        "var_smoothing = [i for i in range(10)]\n",
        "print(var_smoothing)\n",
        "train_score =[]\n",
        "test_score =[]\n",
        "for feat in var_smoothing:\n",
        "    clf = GaussianNB(var_smoothing=feat)\n",
        "    clf = clf.fit(Xlog_train, ylog_train)\n",
        "    ylog_pred =clf.predict(Xlog_test)\n",
        "    train_score.append(clf.score(Xlog_train,ylog_train))\n",
        "    test_score.append(clf.score(Xlog_test,ylog_test))\n",
        "\n",
        "plt.figure(figsize = (8,5))\n",
        "plt.plot(var_smoothing,train_score,c='b')\n",
        "plt.plot(var_smoothing, test_score, c='r')\n",
        "plt.xlabel('Var smoothing')\n",
        "plt.ylabel('Accuracy')\n",
        "\n",
        "plt.legend(['Training set','Test set'])\n",
        "plt.show()"
      ],
      "execution_count": 38,
      "outputs": [
        {
          "output_type": "stream",
          "text": [
            "[0, 1, 2, 3, 4, 5, 6, 7, 8, 9]\n"
          ],
          "name": "stdout"
        },
        {
          "output_type": "display_data",
          "data": {
            "image/png": "[encoded data removed]",
            "text/plain": [
              "<Figure size 576x360 with 1 Axes>"
            ]
          },
          "metadata": {}
        }
      ]
    },
    {
      "cell_type": "markdown",
      "metadata": {
        "id": "KMYOTiazydoV"
      },
      "source": [
        "# RF"
      ]
    },
    {
      "cell_type": "code",
      "metadata": {
        "id": "5TGqwV3VePRX"
      },
      "source": [
        "from sklearn.ensemble import RandomForestClassifier     #导入需要的模块\n",
        "\n",
        "rfc = RandomForestClassifier()                      #实例化\n",
        "rfc = rfc.fit(Xlog_train,ylog_train)\n",
        "ylog_pred =rfc.predict(Xlog_test)\n",
        "import scipy.stats as stats\n",
        "from sklearn.metrics import *\n",
        "# r, p = stats.pearsonr(ylog_test, ylog_pred)\n",
        "print('Person Correlation coefficient,', r, p)\n",
        "print('Precision',precision_score(ylog_test, ylog_pred,average='micro'))\n",
        "print('Recall',recall_score(ylog_test, ylog_pred,average='micro'))\n",
        "print('F1-score',f1_score(ylog_test, ylog_pred,average='micro'))\n",
        "print('Confusion Matrix\\n',confusion_matrix(ylog_test, ylog_pred ))\n",
        "# 4、模型报告\n",
        "print('Classification Report\\n',classification_report(ylog_test, ylog_pred))\n",
        "fpr, tpr, thresholds = metrics.roc_curve(ylog_test, ylog_pred, pos_label=2)\n",
        "print('TPR',thresholds)\n",
        "print('FPR',fpr)\n",
        "PPv = precision_score(ylog_test, ylog_pred)\n",
        "print('PPV',PPv)\n",
        "def calculate_metric(gt, pred):\n",
        "    pred[pred>0.5]=1\n",
        "    pred[pred<1]=0\n",
        "    confusion = confusion_matrix(gt,pred)\n",
        "    TP = confusion[1, 1]\n",
        "    TN = confusion[0, 0]\n",
        "    FP = confusion[0, 1]\n",
        "    FN = confusion[1, 0]\n",
        "    plot_confuse_matrix(confusion)\n",
        "\n",
        "    print('Accuracy:',(TP+TN)/float(TP+TN+FP+FN))\n",
        "    print('Sensitivity:',TP / float(TP+FN))\n",
        "    print('Specificity:',TN / float(TN+FP))\n",
        "calculate_metric(ylog_test, ylog_pred)\n",
        "from sklearn.metrics import roc_curve\n",
        "ylog_pred = ylog_pred.reshape(-1,1)\n",
        "print(ylog_pred.shape)\n",
        "from sklearn.metrics import auc\n",
        "\n",
        "\n",
        "plot_roc()"
      ],
      "execution_count": null,
      "outputs": []
    },
    {
      "cell_type": "markdown",
      "metadata": {
        "id": "S2NhIfXYfuoK"
      },
      "source": [
        "# XGBOOST"
      ]
    },
    {
      "cell_type": "code",
      "metadata": {
        "id": "V6eBlKPpdF5x"
      },
      "source": [
        "params = {\n",
        " 'learning_rate' :0.1,\n",
        " 'n_estimators':1000,\n",
        " 'max_depth':5,\n",
        " 'min_child_weight':1,\n",
        " 'gamma':0,\n",
        " 'subsample':0.8,\n",
        " 'colsample_bytree':0.8,\n",
        " 'objective': 'binary:logistic',\n",
        " 'nthread':4,\n",
        " 'scale_pos_weight':1,\n",
        " 'seed':27\n",
        " }\n",
        "X_train_xgb = xgb.DMatrix(Xlog_train,ylog_train)\n",
        "\n",
        "X_test_xgb  = xgb.DMatrix(Xlog_test)\n",
        "# X_xgb  = xgb.DMatrix(X_test.values)"
      ],
      "execution_count": null,
      "outputs": []
    },
    {
      "cell_type": "code",
      "metadata": {
        "id": "hg1lHwyUf_cb"
      },
      "source": [
        "Xgbm = xgb.train(params, X_train_xgb, 50)"
      ],
      "execution_count": null,
      "outputs": []
    },
    {
      "cell_type": "code",
      "metadata": {
        "id": "PGCbVZyRgEqd"
      },
      "source": [
        "yxgb_pred = (Xgbm.predict(X_test_xgb)>=0.5*1).astype(int)\n",
        "# y_xgb = (Xgbm.predict(X_xgb)>=0.5*1).astype(int)\n",
        "print(yxgb_pred.shape)\n",
        "print(ylog_test.shape)"
      ],
      "execution_count": null,
      "outputs": []
    },
    {
      "cell_type": "code",
      "metadata": {
        "id": "y4DnxUhVhEZs"
      },
      "source": [
        "import scipy.stats as stats\n",
        "from sklearn.metrics import *\n",
        "r, p = stats.pearsonr(ylog_test, yxgb_pred)\n",
        "print('Person Correlation coefficient,', r, p)\n",
        "print('Precision',precision_score(ylog_test, yxgb_pred,average='micro'))\n",
        "print('Recall',recall_score(ylog_test, yxgb_pred,average='micro'))\n",
        "print('F1-score',f1_score(ylog_test, yxgb_pred,average='micro'))\n",
        "print('Confusion Matrix\\n',confusion_matrix(ylog_test, yxgb_pred ))\n",
        "# 4、模型报告\n",
        "print('Classification Report\\n',classification_report(ylog_test, yxgb_pred))\n",
        "fpr, tpr, thresholds = metrics.roc_curve(ylog_test, yxgb_pred, pos_label=2)\n",
        "print('TPR',thresholds)\n",
        "print('FPR',fpr)\n",
        "PPv = precision_score(ylog_test, yxgb_pred)\n",
        "print('PPV',PPv)\n",
        "def calculate_metric(gt, pred):\n",
        "    pred[pred>0.5]=1\n",
        "    pred[pred<1]=0\n",
        "    confusion = confusion_matrix(gt,pred)\n",
        "    TP = confusion[1, 1]\n",
        "    TN = confusion[0, 0]\n",
        "    FP = confusion[0, 1]\n",
        "    FN = confusion[1, 0]\n",
        "    plot_confuse_matrix(confusion)\n",
        "\n",
        "    print('Accuracy:',(TP+TN)/float(TP+TN+FP+FN))\n",
        "    print('Sensitivity:',TP / float(TP+FN))\n",
        "    print('Specificity:',TN / float(TN+FP))\n",
        "calculate_metric(ylog_test, yxgb_pred)\n",
        "from sklearn.metrics import roc_curve\n",
        "yxgb_pred = yxgb_pred.reshape(-1,1)\n",
        "print(yxgb_pred.shape)\n",
        "from sklearn.metrics import auc\n",
        "\n",
        "\n",
        "plot_roc()"
      ],
      "execution_count": null,
      "outputs": []
    },
    {
      "cell_type": "code",
      "metadata": {
        "id": "X9KD21JakBDj"
      },
      "source": [
        "feat_imp = pd.Series(Xgbm.get_score(importance_type=\"gain\")).sort_values(ascending=False)[:10]\n",
        "print(feat_imp.index)\n",
        "print(feat_imp)\n",
        "print(columns_name)\n",
        "# listr=[]\n",
        "# for i in feat_imp.index:\n",
        "#   listr.append(columns_name[int(str(i).split('f')[1])])\n",
        "# feat_imp.index= listr\n",
        "feat_imp.plot(kind='bar', title='Feature Importances',figsize=(20,12))\n",
        "plt.ylabel('Feature Importance Score')\n",
        "plt.savefig('2.jpg',dpi=300)"
      ],
      "execution_count": null,
      "outputs": []
    },
    {
      "cell_type": "code",
      "metadata": {
        "id": "CwZ4b8i7hkEE"
      },
      "source": [
        "# print(y_xgb)"
      ],
      "execution_count": null,
      "outputs": []
    },
    {
      "cell_type": "markdown",
      "metadata": {
        "id": "NuUp7GDw92KX"
      },
      "source": [
        "# Lightgbm"
      ]
    },
    {
      "cell_type": "code",
      "metadata": {
        "id": "cLpisPxNioFU"
      },
      "source": [
        "params = {\n",
        "'task': 'train',\n",
        "'boosting_type': 'gbdt',  \n",
        "'objective': 'binary', \n",
        "'metric': {'5', 'auc'},  \n",
        "'num_leaves': 31,  \n",
        "'learning_rate': 0.05,  \n",
        "'feature_fraction': 0.9,  \n",
        "'bagging_fraction': 0.8,  \n",
        "'bagging_freq': 50,  \n",
        "'verbose': 1  \n",
        "}\n",
        "X_train_lgb = lgb.Dataset(Xlog_train,ylog_train)\n",
        "\n",
        "X_test_lgb  = lgb.Dataset(Xlog_test,ylog_test,reference=X_train_lgb)\n",
        "# X_lgb  = lgb.Dataset(X_test.values)"
      ],
      "execution_count": null,
      "outputs": []
    },
    {
      "cell_type": "code",
      "metadata": {
        "colab": {
          "base_uri": "https://localhost:8080/"
        },
        "id": "n30kSImumuPq",
        "outputId": "95015b9f-66ae-4052-ab72-0090d1a0a805"
      },
      "source": [
        "gbm = lgb.train(params, X_train_lgb, num_boost_round=20, valid_sets=X_test_lgb, early_stopping_rounds=5)\n"
      ],
      "execution_count": null,
      "outputs": [
        {
          "output_type": "stream",
          "text": [
            "[1]\tvalid_0's auc: 0.989193\n",
            "Training until validation scores don't improve for 5 rounds.\n",
            "[2]\tvalid_0's auc: 0.996783\n",
            "[3]\tvalid_0's auc: 0.994756\n",
            "[4]\tvalid_0's auc: 0.997029\n",
            "[5]\tvalid_0's auc: 0.997169\n",
            "[6]\tvalid_0's auc: 0.998867\n",
            "[7]\tvalid_0's auc: 0.998475\n",
            "[8]\tvalid_0's auc: 0.998606\n",
            "[9]\tvalid_0's auc: 0.998646\n",
            "[10]\tvalid_0's auc: 0.999374\n",
            "[11]\tvalid_0's auc: 0.999653\n",
            "[12]\tvalid_0's auc: 0.999817\n",
            "[13]\tvalid_0's auc: 0.999909\n",
            "[14]\tvalid_0's auc: 0.999887\n",
            "[15]\tvalid_0's auc: 0.999931\n",
            "[16]\tvalid_0's auc: 0.999902\n",
            "[17]\tvalid_0's auc: 0.999911\n",
            "[18]\tvalid_0's auc: 0.999882\n",
            "[19]\tvalid_0's auc: 0.999849\n",
            "[20]\tvalid_0's auc: 0.999819\n",
            "Early stopping, best iteration is:\n",
            "[15]\tvalid_0's auc: 0.999931\n"
          ],
          "name": "stdout"
        }
      ]
    },
    {
      "cell_type": "code",
      "metadata": {
        "colab": {
          "base_uri": "https://localhost:8080/"
        },
        "id": "z7oVwW9Em3Cl",
        "outputId": "216e434b-7514-42ca-8936-80d77736355e"
      },
      "source": [
        "y_pred_lgb = (gbm.predict(Xlog_test, num_iteration=gbm.best_iteration)>=0.5*1).astype('int')\n",
        "y_pred_lgb"
      ],
      "execution_count": null,
      "outputs": [
        {
          "output_type": "execute_result",
          "data": {
            "text/plain": [
              "array([1, 0, 0, ..., 0, 1, 0])"
            ]
          },
          "metadata": {},
          "execution_count": 343
        }
      ]
    },
    {
      "cell_type": "code",
      "metadata": {
        "colab": {
          "base_uri": "https://localhost:8080/",
          "height": 1000
        },
        "id": "oZ5SGGkZ_1YT",
        "outputId": "f7b2acaa-0e9e-4f87-9f3d-acbc4e6ddadd"
      },
      "source": [
        "import scipy.stats as stats\n",
        "from sklearn.metrics import *\n",
        "r, p = stats.pearsonr(ylog_test, y_pred_lgb)\n",
        "print('Person Correlation coefficient,', r, p)\n",
        "print('Precision',precision_score(ylog_test, y_pred_lgb,average='micro'))\n",
        "print('Recall',recall_score(ylog_test, y_pred_lgb,average='micro'))\n",
        "print('F1-score',f1_score(ylog_test, y_pred_lgb,average='micro'))\n",
        "print('Confusion Matrix\\n',confusion_matrix(ylog_test, y_pred_lgb ))\n",
        "# 4、模型报告\n",
        "print('Classification Report\\n',classification_report(ylog_test, y_pred_lgb))\n",
        "fpr, tpr, thresholds = metrics.roc_curve(ylog_test, y_pred_lgb, pos_label=2)\n",
        "print('TPR',thresholds)\n",
        "print('FPR',fpr)\n",
        "PPv = precision_score(ylog_test, y_pred_lgb)\n",
        "print('PPV',PPv)\n",
        "def calculate_metric(gt, pred):\n",
        "    pred[pred>0.5]=1\n",
        "    pred[pred<1]=0\n",
        "    confusion = confusion_matrix(gt,pred)\n",
        "    TP = confusion[1, 1]\n",
        "    TN = confusion[0, 0]\n",
        "    FP = confusion[0, 1]\n",
        "    FN = confusion[1, 0]\n",
        "    plot_confuse_matrix(confusion)\n",
        "\n",
        "    print('Accuracy:',(TP+TN)/float(TP+TN+FP+FN))\n",
        "    print('Sensitivity:',TP / float(TP+FN))\n",
        "    print('Specificity:',TN / float(TN+FP))\n",
        "calculate_metric(ylog_test, y_pred_lgb)\n",
        "from sklearn.metrics import roc_curve\n",
        "y_pred_lgb = y_pred_lgb.reshape(-1,1)\n",
        "print(y_pred_lgb.shape)\n",
        "from sklearn.metrics import auc\n",
        "\n",
        "plot_roc()\n",
        "plt.savefig('roc.jpg')"
      ],
      "execution_count": null,
      "outputs": [
        {
          "output_type": "stream",
          "text": [
            "Person Correlation coefficient, 0.9781929567439367 0.0\n",
            "Precision 0.989\n",
            "Recall 0.989\n",
            "F1-score 0.989\n",
            "Confusion Matrix\n",
            " [[ 974    1]\n",
            " [  21 1004]]\n",
            "Classification Report\n",
            "               precision    recall  f1-score   support\n",
            "\n",
            "           0       0.98      1.00      0.99       975\n",
            "           1       1.00      0.98      0.99      1025\n",
            "\n",
            "    accuracy                           0.99      2000\n",
            "   macro avg       0.99      0.99      0.99      2000\n",
            "weighted avg       0.99      0.99      0.99      2000\n",
            "\n"
          ],
          "name": "stdout"
        },
        {
          "output_type": "stream",
          "text": [
            "/usr/local/lib/python3.7/dist-packages/sklearn/metrics/_ranking.py:808: UndefinedMetricWarning: No positive samples in y_true, true positive value should be meaningless\n",
            "  UndefinedMetricWarning)\n"
          ],
          "name": "stderr"
        },
        {
          "output_type": "stream",
          "text": [
            "TPR [2 1 0]\n",
            "FPR [0.     0.5025 1.    ]\n",
            "PPV 0.9990049751243781\n"
          ],
          "name": "stdout"
        },
        {
          "output_type": "display_data",
          "data": {
            "image/png": "[encoded data removed]",
            "text/plain": [
              "<Figure size 432x288 with 2 Axes>"
            ]
          },
          "metadata": {}
        },
        {
          "output_type": "stream",
          "text": [
            "Accuracy: 0.989\n",
            "Sensitivity: 0.9795121951219512\n",
            "Specificity: 0.9989743589743589\n",
            "(2000, 1)\n"
          ],
          "name": "stdout"
        },
        {
          "output_type": "display_data",
          "data": {
            "image/png": "[encoded data removed]",
            "text/plain": [
              "<Figure size 432x288 with 1 Axes>"
            ]
          },
          "metadata": {}
        }
      ]
    },
    {
      "cell_type": "markdown",
      "metadata": {
        "id": "aYrPcq0pDRXO"
      },
      "source": [
        "# H2O"
      ]
    },
    {
      "cell_type": "code",
      "metadata": {
        "colab": {
          "base_uri": "https://localhost:8080/"
        },
        "id": "bdLDob89_N7m",
        "outputId": "e3396d57-8fde-4f11-acd5-43c3d3c49ce3"
      },
      "source": [
        "pct_memory=0.95\n",
        "virtual_memory=psutil.virtual_memory()\n",
        "print(\"Virtual Memory Size: \",virtual_memory)\n",
        "min_mem_size=int(round(int(pct_memory*virtual_memory.available)/1073741824,0))\n",
        "print(\"Minimum Memory Size: \",min_mem_size)"
      ],
      "execution_count": null,
      "outputs": [
        {
          "output_type": "stream",
          "text": [
            "Virtual Memory Size:  svmem(total=13622198272, available=3815493632, percent=72.0, used=9916657664, free=162099200, active=10201780224, inactive=2923479040, buffers=138014720, cached=3405426688, shared=1179648, slab=255275008)\n",
            "Minimum Memory Size:  3\n"
          ],
          "name": "stdout"
        }
      ]
    },
    {
      "cell_type": "code",
      "metadata": {
        "colab": {
          "base_uri": "https://localhost:8080/"
        },
        "id": "VdCdroT7AkWX",
        "outputId": "cd8cccfc-0ee8-47c1-aa98-ec7b44694931"
      },
      "source": [
        "port_no=random.randint(5555,55555)\n",
        "\n",
        "#  h2o.init(strict_version_check=False,min_mem_size_GB=min_mem_size,port=port_no) # start h2o\n",
        "try:\n",
        "  h2o.init(strict_version_check=False,min_mem_size_GB=min_mem_size,port=port_no) # start h2o\n",
        "except:\n",
        "  logging.critical('h2o.init')\n",
        "  h2o.download_all_logs(dirname=logs_path, filename=logfile)      \n",
        "  h2o.cluster().shutdown()\n",
        "  sys.exit(2)"
      ],
      "execution_count": null,
      "outputs": [
        {
          "output_type": "stream",
          "text": [
            "Checking whether there is an H2O instance running at http://localhost:11070 ..... not found.\n",
            "Attempting to start a local H2O server...\n",
            "  Java Version: openjdk version \"11.0.11\" 2021-04-20; OpenJDK Runtime Environment (build 11.0.11+9-Ubuntu-0ubuntu2.18.04); OpenJDK 64-Bit Server VM (build 11.0.11+9-Ubuntu-0ubuntu2.18.04, mixed mode, sharing)\n",
            "  Starting server from /usr/local/lib/python3.7/dist-packages/h2o/backend/bin/h2o.jar\n",
            "  Ice root: /tmp/tmpzy_59wql\n",
            "  JVM stdout: /tmp/tmpzy_59wql/h2o_unknownUser_started_from_python.out\n",
            "  JVM stderr: /tmp/tmpzy_59wql/h2o_unknownUser_started_from_python.err\n",
            "  Server is running at http://127.0.0.1:11070\n",
            "Connecting to H2O server at http://127.0.0.1:11070 ... successful.\n"
          ],
          "name": "stdout"
        },
        {
          "output_type": "display_data",
          "data": {
            "text/html": [
              "<div style=\"overflow:auto\"><table style=\"width:50%\"><tr><td>H2O_cluster_uptime:</td>\n",
              "<td>02 secs</td></tr>\n",
              "<tr><td>H2O_cluster_timezone:</td>\n",
              "<td>Etc/UTC</td></tr>\n",
              "<tr><td>H2O_data_parsing_timezone:</td>\n",
              "<td>UTC</td></tr>\n",
              "<tr><td>H2O_cluster_version:</td>\n",
              "<td>3.32.1.6</td></tr>\n",
              "<tr><td>H2O_cluster_version_age:</td>\n",
              "<td>19 hours and 14 minutes </td></tr>\n",
              "<tr><td>H2O_cluster_name:</td>\n",
              "<td>H2O_from_python_unknownUser_r3qkhu</td></tr>\n",
              "<tr><td>H2O_cluster_total_nodes:</td>\n",
              "<td>1</td></tr>\n",
              "<tr><td>H2O_cluster_free_memory:</td>\n",
              "<td>3.172 Gb</td></tr>\n",
              "<tr><td>H2O_cluster_total_cores:</td>\n",
              "<td>2</td></tr>\n",
              "<tr><td>H2O_cluster_allowed_cores:</td>\n",
              "<td>2</td></tr>\n",
              "<tr><td>H2O_cluster_status:</td>\n",
              "<td>accepting new members, healthy</td></tr>\n",
              "<tr><td>H2O_connection_url:</td>\n",
              "<td>http://127.0.0.1:11070</td></tr>\n",
              "<tr><td>H2O_connection_proxy:</td>\n",
              "<td>{\"http\": null, \"https\": null}</td></tr>\n",
              "<tr><td>H2O_internal_security:</td>\n",
              "<td>False</td></tr>\n",
              "<tr><td>H2O_API_Extensions:</td>\n",
              "<td>Amazon S3, XGBoost, Algos, AutoML, Core V3, TargetEncoder, Core V4</td></tr>\n",
              "<tr><td>Python_version:</td>\n",
              "<td>3.7.11 final</td></tr></table></div>"
            ],
            "text/plain": [
              "--------------------------  ------------------------------------------------------------------\n",
              "H2O_cluster_uptime:         02 secs\n",
              "H2O_cluster_timezone:       Etc/UTC\n",
              "H2O_data_parsing_timezone:  UTC\n",
              "H2O_cluster_version:        3.32.1.6\n",
              "H2O_cluster_version_age:    19 hours and 14 minutes\n",
              "H2O_cluster_name:           H2O_from_python_unknownUser_r3qkhu\n",
              "H2O_cluster_total_nodes:    1\n",
              "H2O_cluster_free_memory:    3.172 Gb\n",
              "H2O_cluster_total_cores:    2\n",
              "H2O_cluster_allowed_cores:  2\n",
              "H2O_cluster_status:         accepting new members, healthy\n",
              "H2O_connection_url:         http://127.0.0.1:11070\n",
              "H2O_connection_proxy:       {\"http\": null, \"https\": null}\n",
              "H2O_internal_security:      False\n",
              "H2O_API_Extensions:         Amazon S3, XGBoost, Algos, AutoML, Core V3, TargetEncoder, Core V4\n",
              "Python_version:             3.7.11 final\n",
              "--------------------------  ------------------------------------------------------------------"
            ]
          },
          "metadata": {}
        }
      ]
    },
    {
      "cell_type": "code",
      "metadata": {
        "colab": {
          "base_uri": "https://localhost:8080/"
        },
        "id": "NcOANFLRDdLn",
        "outputId": "3fd83c06-ea22-4a74-9bf8-3a76828f87da"
      },
      "source": [
        "H2O_train = h2o.import_file(\"/content/qt_dataset.csv\")"
      ],
      "execution_count": null,
      "outputs": [
        {
          "output_type": "stream",
          "text": [
            "Parse progress: |█████████████████████████████████████████████████████████| 100%\n"
          ],
          "name": "stdout"
        }
      ]
    },
    {
      "cell_type": "code",
      "metadata": {
        "id": "SJqRMJ2DDm6e"
      },
      "source": [
        "\n",
        "Target='Result'"
      ],
      "execution_count": null,
      "outputs": []
    },
    {
      "cell_type": "code",
      "metadata": {
        "id": "OQZs2eGwDo1-"
      },
      "source": [
        "H2O_train[Target] = H2O_train[Target].asfactor()\n"
      ],
      "execution_count": null,
      "outputs": []
    },
    {
      "cell_type": "code",
      "metadata": {
        "id": "UkvmN0FcDrsf"
      },
      "source": [
        "aml = H2OAutoML(max_runtime_secs=600, seed=27)\n"
      ],
      "execution_count": null,
      "outputs": []
    },
    {
      "cell_type": "code",
      "metadata": {
        "colab": {
          "base_uri": "https://localhost:8080/"
        },
        "id": "4TF5ZoTWDzD_",
        "outputId": "36c5c64e-1dd5-4c34-effc-e3079fce2a91"
      },
      "source": [
        "\n",
        "model_start_time = time.time()\n",
        "aml.train(x=predictors, y=Target, training_frame=H2O_train)"
      ],
      "execution_count": null,
      "outputs": [
        {
          "output_type": "stream",
          "text": [
            "AutoML progress: |████████████████████████████████████████████████████████| 100%\n"
          ],
          "name": "stdout"
        }
      ]
    },
    {
      "cell_type": "code",
      "metadata": {
        "colab": {
          "base_uri": "https://localhost:8080/"
        },
        "id": "ZYVAgGWdD0fP",
        "outputId": "2bfee3c8-e7b1-444b-b7d4-dc20f00e653c"
      },
      "source": [
        "meta_data={}\n",
        "meta_data['model_execution_time'] = {\"classification\":(time.time() - model_start_time)}\n",
        "meta_data"
      ],
      "execution_count": null,
      "outputs": [
        {
          "output_type": "execute_result",
          "data": {
            "text/plain": [
              "{'model_execution_time': {'classification': 608.7723994255066}}"
            ]
          },
          "metadata": {},
          "execution_count": 352
        }
      ]
    },
    {
      "cell_type": "code",
      "metadata": {
        "colab": {
          "base_uri": "https://localhost:8080/"
        },
        "id": "eouiW2tRD15v",
        "outputId": "51d77df5-24b0-4b1f-99f3-7ac9490bdfcb"
      },
      "source": [
        "lb = aml.leaderboard\n",
        "lb.head(rows=lb.nrows)"
      ],
      "execution_count": null,
      "outputs": [
        {
          "output_type": "display_data",
          "data": {
            "text/html": [
              "<table>\n",
              "<thead>\n",
              "<tr><th>model_id                                           </th><th style=\"text-align: right;\">     auc</th><th style=\"text-align: right;\">    logloss</th><th style=\"text-align: right;\">   aucpr</th><th style=\"text-align: right;\">  mean_per_class_error</th><th style=\"text-align: right;\">      rmse</th><th style=\"text-align: right;\">        mse</th></tr>\n",
              "</thead>\n",
              "<tbody>\n",
              "<tr><td>XGBoost_grid__1_AutoML_20210820_140425_model_1     </td><td style=\"text-align: right;\">1       </td><td style=\"text-align: right;\">0.000914953</td><td style=\"text-align: right;\">1       </td><td style=\"text-align: right;\">           0          </td><td style=\"text-align: right;\">0.00263973</td><td style=\"text-align: right;\">6.96815e-06</td></tr>\n",
              "<tr><td>XGBoost_grid__1_AutoML_20210820_140425_model_4     </td><td style=\"text-align: right;\">1       </td><td style=\"text-align: right;\">0.0073341  </td><td style=\"text-align: right;\">1       </td><td style=\"text-align: right;\">           0          </td><td style=\"text-align: right;\">0.0151612 </td><td style=\"text-align: right;\">0.000229861</td></tr>\n",
              "<tr><td>GBM_1_AutoML_20210820_140425                       </td><td style=\"text-align: right;\">1       </td><td style=\"text-align: right;\">0.00188554 </td><td style=\"text-align: right;\">1       </td><td style=\"text-align: right;\">           0          </td><td style=\"text-align: right;\">0.00769056</td><td style=\"text-align: right;\">5.91448e-05</td></tr>\n",
              "<tr><td>DRF_1_AutoML_20210820_140425                       </td><td style=\"text-align: right;\">1       </td><td style=\"text-align: right;\">0.00491194 </td><td style=\"text-align: right;\">1       </td><td style=\"text-align: right;\">           0          </td><td style=\"text-align: right;\">0.0228934 </td><td style=\"text-align: right;\">0.000524109</td></tr>\n",
              "<tr><td>GBM_grid__1_AutoML_20210820_140425_model_1         </td><td style=\"text-align: right;\">1       </td><td style=\"text-align: right;\">0.00547284 </td><td style=\"text-align: right;\">1       </td><td style=\"text-align: right;\">           0          </td><td style=\"text-align: right;\">0.0190203 </td><td style=\"text-align: right;\">0.000361771</td></tr>\n",
              "<tr><td>XGBoost_3_AutoML_20210820_140425                   </td><td style=\"text-align: right;\">1       </td><td style=\"text-align: right;\">0.00247014 </td><td style=\"text-align: right;\">1       </td><td style=\"text-align: right;\">           0          </td><td style=\"text-align: right;\">0.00719023</td><td style=\"text-align: right;\">5.16994e-05</td></tr>\n",
              "<tr><td>StackedEnsemble_BestOfFamily_AutoML_20210820_140425</td><td style=\"text-align: right;\">1       </td><td style=\"text-align: right;\">0.0026623  </td><td style=\"text-align: right;\">1       </td><td style=\"text-align: right;\">           0          </td><td style=\"text-align: right;\">0.0100444 </td><td style=\"text-align: right;\">0.000100891</td></tr>\n",
              "<tr><td>XGBoost_grid__1_AutoML_20210820_140425_model_5     </td><td style=\"text-align: right;\">1       </td><td style=\"text-align: right;\">0.0484633  </td><td style=\"text-align: right;\">1       </td><td style=\"text-align: right;\">           0          </td><td style=\"text-align: right;\">0.0742805 </td><td style=\"text-align: right;\">0.0055176  </td></tr>\n",
              "<tr><td>GBM_grid__1_AutoML_20210820_140425_model_2         </td><td style=\"text-align: right;\">1       </td><td style=\"text-align: right;\">0.0495025  </td><td style=\"text-align: right;\">1       </td><td style=\"text-align: right;\">           0          </td><td style=\"text-align: right;\">0.077709  </td><td style=\"text-align: right;\">0.00603868 </td></tr>\n",
              "<tr><td>GBM_2_AutoML_20210820_140425                       </td><td style=\"text-align: right;\">1       </td><td style=\"text-align: right;\">0.000624808</td><td style=\"text-align: right;\">1       </td><td style=\"text-align: right;\">           0          </td><td style=\"text-align: right;\">0.00579008</td><td style=\"text-align: right;\">3.3525e-05 </td></tr>\n",
              "<tr><td>GBM_5_AutoML_20210820_140425                       </td><td style=\"text-align: right;\">1       </td><td style=\"text-align: right;\">0.00197987 </td><td style=\"text-align: right;\">1       </td><td style=\"text-align: right;\">           0          </td><td style=\"text-align: right;\">0.00795373</td><td style=\"text-align: right;\">6.32618e-05</td></tr>\n",
              "<tr><td>XGBoost_2_AutoML_20210820_140425                   </td><td style=\"text-align: right;\">1       </td><td style=\"text-align: right;\">0.0088572  </td><td style=\"text-align: right;\">1       </td><td style=\"text-align: right;\">           0          </td><td style=\"text-align: right;\">0.0228325 </td><td style=\"text-align: right;\">0.000521321</td></tr>\n",
              "<tr><td>XGBoost_grid__1_AutoML_20210820_140425_model_2     </td><td style=\"text-align: right;\">1       </td><td style=\"text-align: right;\">0.000786906</td><td style=\"text-align: right;\">1       </td><td style=\"text-align: right;\">           0          </td><td style=\"text-align: right;\">0.00265969</td><td style=\"text-align: right;\">7.07393e-06</td></tr>\n",
              "<tr><td>XGBoost_1_AutoML_20210820_140425                   </td><td style=\"text-align: right;\">1       </td><td style=\"text-align: right;\">0.00590975 </td><td style=\"text-align: right;\">1       </td><td style=\"text-align: right;\">           0          </td><td style=\"text-align: right;\">0.0152814 </td><td style=\"text-align: right;\">0.000233521</td></tr>\n",
              "<tr><td>StackedEnsemble_AllModels_AutoML_20210820_140425   </td><td style=\"text-align: right;\">1       </td><td style=\"text-align: right;\">0.00225134 </td><td style=\"text-align: right;\">1       </td><td style=\"text-align: right;\">           0          </td><td style=\"text-align: right;\">0.00856875</td><td style=\"text-align: right;\">7.34235e-05</td></tr>\n",
              "<tr><td>GBM_3_AutoML_20210820_140425                       </td><td style=\"text-align: right;\">1       </td><td style=\"text-align: right;\">0.001873   </td><td style=\"text-align: right;\">1       </td><td style=\"text-align: right;\">           9.98004e-05</td><td style=\"text-align: right;\">0.0124782 </td><td style=\"text-align: right;\">0.000155704</td></tr>\n",
              "<tr><td>GBM_4_AutoML_20210820_140425                       </td><td style=\"text-align: right;\">1       </td><td style=\"text-align: right;\">0.00592364 </td><td style=\"text-align: right;\">1       </td><td style=\"text-align: right;\">           0.0001002  </td><td style=\"text-align: right;\">0.0185407 </td><td style=\"text-align: right;\">0.000343758</td></tr>\n",
              "<tr><td>XGBoost_grid__1_AutoML_20210820_140425_model_3     </td><td style=\"text-align: right;\">0.999999</td><td style=\"text-align: right;\">0.0167334  </td><td style=\"text-align: right;\">0.999999</td><td style=\"text-align: right;\">           0.000200001</td><td style=\"text-align: right;\">0.0422947 </td><td style=\"text-align: right;\">0.00178884 </td></tr>\n",
              "<tr><td>XRT_1_AutoML_20210820_140425                       </td><td style=\"text-align: right;\">0.999917</td><td style=\"text-align: right;\">0.0382112  </td><td style=\"text-align: right;\">0.999917</td><td style=\"text-align: right;\">           0.00399762 </td><td style=\"text-align: right;\">0.0931201 </td><td style=\"text-align: right;\">0.00867136 </td></tr>\n",
              "<tr><td>DeepLearning_grid__2_AutoML_20210820_140425_model_1</td><td style=\"text-align: right;\">0.998706</td><td style=\"text-align: right;\">0.0529817  </td><td style=\"text-align: right;\">0.998744</td><td style=\"text-align: right;\">           0.0182991  </td><td style=\"text-align: right;\">0.120431  </td><td style=\"text-align: right;\">0.0145036  </td></tr>\n",
              "<tr><td>DeepLearning_grid__1_AutoML_20210820_140425_model_1</td><td style=\"text-align: right;\">0.99788 </td><td style=\"text-align: right;\">0.0620643  </td><td style=\"text-align: right;\">0.997957</td><td style=\"text-align: right;\">           0.0210049  </td><td style=\"text-align: right;\">0.131871  </td><td style=\"text-align: right;\">0.0173901  </td></tr>\n",
              "<tr><td>DeepLearning_grid__3_AutoML_20210820_140425_model_1</td><td style=\"text-align: right;\">0.997166</td><td style=\"text-align: right;\">0.0662543  </td><td style=\"text-align: right;\">0.997042</td><td style=\"text-align: right;\">           0.0227929  </td><td style=\"text-align: right;\">0.135006  </td><td style=\"text-align: right;\">0.0182267  </td></tr>\n",
              "<tr><td>DeepLearning_1_AutoML_20210820_140425              </td><td style=\"text-align: right;\">0.995152</td><td style=\"text-align: right;\">0.0905138  </td><td style=\"text-align: right;\">0.995276</td><td style=\"text-align: right;\">           0.0367901  </td><td style=\"text-align: right;\">0.165987  </td><td style=\"text-align: right;\">0.0275516  </td></tr>\n",
              "<tr><td>DeepLearning_grid__2_AutoML_20210820_140425_model_2</td><td style=\"text-align: right;\">0.988185</td><td style=\"text-align: right;\">0.149926   </td><td style=\"text-align: right;\">0.988584</td><td style=\"text-align: right;\">           0.060294   </td><td style=\"text-align: right;\">0.216067  </td><td style=\"text-align: right;\">0.0466849  </td></tr>\n",
              "<tr><td>DeepLearning_grid__1_AutoML_20210820_140425_model_2</td><td style=\"text-align: right;\">0.98788 </td><td style=\"text-align: right;\">0.142233   </td><td style=\"text-align: right;\">0.988308</td><td style=\"text-align: right;\">           0.0607048  </td><td style=\"text-align: right;\">0.210831  </td><td style=\"text-align: right;\">0.0444497  </td></tr>\n",
              "<tr><td>DeepLearning_grid__3_AutoML_20210820_140425_model_2</td><td style=\"text-align: right;\">0.986304</td><td style=\"text-align: right;\">0.162104   </td><td style=\"text-align: right;\">0.986823</td><td style=\"text-align: right;\">           0.0655013  </td><td style=\"text-align: right;\">0.223627  </td><td style=\"text-align: right;\">0.050009   </td></tr>\n",
              "<tr><td>GLM_1_AutoML_20210820_140425                       </td><td style=\"text-align: right;\">0.980315</td><td style=\"text-align: right;\">0.179691   </td><td style=\"text-align: right;\">0.981379</td><td style=\"text-align: right;\">           0.0794781  </td><td style=\"text-align: right;\">0.237438  </td><td style=\"text-align: right;\">0.0563768  </td></tr>\n",
              "<tr><td>GBM_grid__1_AutoML_20210820_140425_model_3         </td><td style=\"text-align: right;\">0.965087</td><td style=\"text-align: right;\">0.59684    </td><td style=\"text-align: right;\">0.969012</td><td style=\"text-align: right;\">           0.099822   </td><td style=\"text-align: right;\">0.44998   </td><td style=\"text-align: right;\">0.202482   </td></tr>\n",
              "</tbody>\n",
              "</table>"
            ]
          },
          "metadata": {}
        },
        {
          "output_type": "execute_result",
          "data": {
            "text/plain": [
              ""
            ]
          },
          "metadata": {},
          "execution_count": 353
        }
      ]
    },
    {
      "cell_type": "code",
      "metadata": {
        "id": "cmdpVO4FD3Kv"
      },
      "source": [
        "aml_leaderboard_df=aml.leaderboard.as_data_frame()\n",
        "model_set=aml_leaderboard_df['model_id']\n",
        "mod_best1=h2o.get_model(model_set[0])"
      ],
      "execution_count": null,
      "outputs": []
    },
    {
      "cell_type": "code",
      "metadata": {
        "colab": {
          "base_uri": "https://localhost:8080/"
        },
        "id": "JODQ7HUFD5dn",
        "outputId": "4400522e-e261-4b83-b663-9489ae596780"
      },
      "source": [
        "print(mod_best1.auc())"
      ],
      "execution_count": null,
      "outputs": [
        {
          "output_type": "stream",
          "text": [
            "1.0\n"
          ],
          "name": "stdout"
        }
      ]
    },
    {
      "cell_type": "code",
      "metadata": {
        "colab": {
          "base_uri": "https://localhost:8080/"
        },
        "id": "ZpFiRr-DD61H",
        "outputId": "5f055039-0a82-4e39-e103-505f8a50fefd"
      },
      "source": [
        "print(mod_best1.algo)"
      ],
      "execution_count": null,
      "outputs": [
        {
          "output_type": "stream",
          "text": [
            "xgboost\n"
          ],
          "name": "stdout"
        }
      ]
    },
    {
      "cell_type": "code",
      "metadata": {
        "id": "PG8-XEIuD70X"
      },
      "source": [
        "# pred_H2O=mod_best1.predict(H2O_test)"
      ],
      "execution_count": null,
      "outputs": []
    },
    {
      "cell_type": "code",
      "metadata": {
        "id": "LD_0vE13D9TY"
      },
      "source": [
        "# pred_H2O"
      ],
      "execution_count": null,
      "outputs": []
    },
    {
      "cell_type": "code",
      "metadata": {
        "colab": {
          "base_uri": "https://localhost:8080/"
        },
        "id": "bnwc-pkKD-j_",
        "outputId": "5d313f4b-2656-432e-f41c-aaa505ea0e52"
      },
      "source": [
        "print(mod_best1.model_id)"
      ],
      "execution_count": null,
      "outputs": [
        {
          "output_type": "stream",
          "text": [
            "XGBoost_grid__1_AutoML_20210820_140425_model_1\n"
          ],
          "name": "stdout"
        }
      ]
    },
    {
      "cell_type": "code",
      "metadata": {
        "colab": {
          "base_uri": "https://localhost:8080/"
        },
        "id": "yGbHpjzIEAXX",
        "outputId": "069b7287-8969-477c-e729-ed36b6c6da37"
      },
      "source": [
        "print(mod_best1.gini)"
      ],
      "execution_count": null,
      "outputs": [
        {
          "output_type": "stream",
          "text": [
            "Model Details\n",
            "=============\n",
            "H2OXGBoostEstimator :  XGBoost\n",
            "Model Key:  XGBoost_grid__1_AutoML_20210820_140425_model_1\n",
            "\n",
            "\n",
            "Model Summary: \n"
          ],
          "name": "stdout"
        },
        {
          "output_type": "display_data",
          "data": {
            "text/html": [
              "<div>\n",
              "<style scoped>\n",
              "    .dataframe tbody tr th:only-of-type {\n",
              "        vertical-align: middle;\n",
              "    }\n",
              "\n",
              "    .dataframe tbody tr th {\n",
              "        vertical-align: top;\n",
              "    }\n",
              "\n",
              "    .dataframe thead th {\n",
              "        text-align: right;\n",
              "    }\n",
              "</style>\n",
              "<table border=\"1\" class=\"dataframe\">\n",
              "  <thead>\n",
              "    <tr style=\"text-align: right;\">\n",
              "      <th></th>\n",
              "      <th></th>\n",
              "      <th>number_of_trees</th>\n",
              "    </tr>\n",
              "  </thead>\n",
              "  <tbody>\n",
              "    <tr>\n",
              "      <th>0</th>\n",
              "      <td></td>\n",
              "      <td>454.0</td>\n",
              "    </tr>\n",
              "  </tbody>\n",
              "</table>\n",
              "</div>"
            ],
            "text/plain": [
              "     number_of_trees\n",
              "0              454.0"
            ]
          },
          "metadata": {}
        },
        {
          "output_type": "stream",
          "text": [
            "\n",
            "\n",
            "ModelMetricsBinomial: xgboost\n",
            "** Reported on train data. **\n",
            "\n",
            "MSE: 3.3021410709897498e-06\n",
            "RMSE: 0.0018171794272965314\n",
            "LogLoss: 0.0006871869794054748\n",
            "Mean Per-Class Error: 0.0\n",
            "AUC: 1.0\n",
            "AUCPR: 1.0\n",
            "Gini: 1.0\n",
            "\n",
            "Confusion Matrix (Act/Pred) for max f1 @ threshold = 0.9630945920944214: \n"
          ],
          "name": "stdout"
        },
        {
          "output_type": "display_data",
          "data": {
            "text/html": [
              "<div>\n",
              "<style scoped>\n",
              "    .dataframe tbody tr th:only-of-type {\n",
              "        vertical-align: middle;\n",
              "    }\n",
              "\n",
              "    .dataframe tbody tr th {\n",
              "        vertical-align: top;\n",
              "    }\n",
              "\n",
              "    .dataframe thead th {\n",
              "        text-align: right;\n",
              "    }\n",
              "</style>\n",
              "<table border=\"1\" class=\"dataframe\">\n",
              "  <thead>\n",
              "    <tr style=\"text-align: right;\">\n",
              "      <th></th>\n",
              "      <th></th>\n",
              "      <th>Negative</th>\n",
              "      <th>Positive</th>\n",
              "      <th>Error</th>\n",
              "      <th>Rate</th>\n",
              "    </tr>\n",
              "  </thead>\n",
              "  <tbody>\n",
              "    <tr>\n",
              "      <th>0</th>\n",
              "      <td>Negative</td>\n",
              "      <td>5010.0</td>\n",
              "      <td>0.0</td>\n",
              "      <td>0.0</td>\n",
              "      <td>(0.0/5010.0)</td>\n",
              "    </tr>\n",
              "    <tr>\n",
              "      <th>1</th>\n",
              "      <td>Positive</td>\n",
              "      <td>0.0</td>\n",
              "      <td>4990.0</td>\n",
              "      <td>0.0</td>\n",
              "      <td>(0.0/4990.0)</td>\n",
              "    </tr>\n",
              "    <tr>\n",
              "      <th>2</th>\n",
              "      <td>Total</td>\n",
              "      <td>5010.0</td>\n",
              "      <td>4990.0</td>\n",
              "      <td>0.0</td>\n",
              "      <td>(0.0/10000.0)</td>\n",
              "    </tr>\n",
              "  </tbody>\n",
              "</table>\n",
              "</div>"
            ],
            "text/plain": [
              "             Negative  Positive Error            Rate\n",
              "0  Negative    5010.0       0.0   0.0    (0.0/5010.0)\n",
              "1  Positive       0.0    4990.0   0.0    (0.0/4990.0)\n",
              "2     Total    5010.0    4990.0   0.0   (0.0/10000.0)"
            ]
          },
          "metadata": {}
        },
        {
          "output_type": "stream",
          "text": [
            "\n",
            "Maximum Metrics: Maximum metrics at their respective thresholds\n"
          ],
          "name": "stdout"
        },
        {
          "output_type": "display_data",
          "data": {
            "text/html": [
              "<div>\n",
              "<style scoped>\n",
              "    .dataframe tbody tr th:only-of-type {\n",
              "        vertical-align: middle;\n",
              "    }\n",
              "\n",
              "    .dataframe tbody tr th {\n",
              "        vertical-align: top;\n",
              "    }\n",
              "\n",
              "    .dataframe thead th {\n",
              "        text-align: right;\n",
              "    }\n",
              "</style>\n",
              "<table border=\"1\" class=\"dataframe\">\n",
              "  <thead>\n",
              "    <tr style=\"text-align: right;\">\n",
              "      <th></th>\n",
              "      <th>metric</th>\n",
              "      <th>threshold</th>\n",
              "      <th>value</th>\n",
              "      <th>idx</th>\n",
              "    </tr>\n",
              "  </thead>\n",
              "  <tbody>\n",
              "    <tr>\n",
              "      <th>0</th>\n",
              "      <td>max f1</td>\n",
              "      <td>9.630946e-01</td>\n",
              "      <td>1.000000</td>\n",
              "      <td>212.0</td>\n",
              "    </tr>\n",
              "    <tr>\n",
              "      <th>1</th>\n",
              "      <td>max f2</td>\n",
              "      <td>9.630946e-01</td>\n",
              "      <td>1.000000</td>\n",
              "      <td>212.0</td>\n",
              "    </tr>\n",
              "    <tr>\n",
              "      <th>2</th>\n",
              "      <td>max f0point5</td>\n",
              "      <td>9.630946e-01</td>\n",
              "      <td>1.000000</td>\n",
              "      <td>212.0</td>\n",
              "    </tr>\n",
              "    <tr>\n",
              "      <th>3</th>\n",
              "      <td>max accuracy</td>\n",
              "      <td>9.630946e-01</td>\n",
              "      <td>1.000000</td>\n",
              "      <td>212.0</td>\n",
              "    </tr>\n",
              "    <tr>\n",
              "      <th>4</th>\n",
              "      <td>max precision</td>\n",
              "      <td>9.999993e-01</td>\n",
              "      <td>1.000000</td>\n",
              "      <td>0.0</td>\n",
              "    </tr>\n",
              "    <tr>\n",
              "      <th>5</th>\n",
              "      <td>max recall</td>\n",
              "      <td>9.630946e-01</td>\n",
              "      <td>1.000000</td>\n",
              "      <td>212.0</td>\n",
              "    </tr>\n",
              "    <tr>\n",
              "      <th>6</th>\n",
              "      <td>max specificity</td>\n",
              "      <td>9.999993e-01</td>\n",
              "      <td>1.000000</td>\n",
              "      <td>0.0</td>\n",
              "    </tr>\n",
              "    <tr>\n",
              "      <th>7</th>\n",
              "      <td>max absolute_mcc</td>\n",
              "      <td>9.630946e-01</td>\n",
              "      <td>1.000000</td>\n",
              "      <td>212.0</td>\n",
              "    </tr>\n",
              "    <tr>\n",
              "      <th>8</th>\n",
              "      <td>max min_per_class_accuracy</td>\n",
              "      <td>9.630946e-01</td>\n",
              "      <td>1.000000</td>\n",
              "      <td>212.0</td>\n",
              "    </tr>\n",
              "    <tr>\n",
              "      <th>9</th>\n",
              "      <td>max mean_per_class_accuracy</td>\n",
              "      <td>9.630946e-01</td>\n",
              "      <td>1.000000</td>\n",
              "      <td>212.0</td>\n",
              "    </tr>\n",
              "    <tr>\n",
              "      <th>10</th>\n",
              "      <td>max tns</td>\n",
              "      <td>9.999993e-01</td>\n",
              "      <td>5010.000000</td>\n",
              "      <td>0.0</td>\n",
              "    </tr>\n",
              "    <tr>\n",
              "      <th>11</th>\n",
              "      <td>max fns</td>\n",
              "      <td>9.999993e-01</td>\n",
              "      <td>4221.000000</td>\n",
              "      <td>0.0</td>\n",
              "    </tr>\n",
              "    <tr>\n",
              "      <th>12</th>\n",
              "      <td>max fps</td>\n",
              "      <td>3.718158e-08</td>\n",
              "      <td>5010.000000</td>\n",
              "      <td>399.0</td>\n",
              "    </tr>\n",
              "    <tr>\n",
              "      <th>13</th>\n",
              "      <td>max tps</td>\n",
              "      <td>9.630946e-01</td>\n",
              "      <td>4990.000000</td>\n",
              "      <td>212.0</td>\n",
              "    </tr>\n",
              "    <tr>\n",
              "      <th>14</th>\n",
              "      <td>max tnr</td>\n",
              "      <td>9.999993e-01</td>\n",
              "      <td>1.000000</td>\n",
              "      <td>0.0</td>\n",
              "    </tr>\n",
              "    <tr>\n",
              "      <th>15</th>\n",
              "      <td>max fnr</td>\n",
              "      <td>9.999993e-01</td>\n",
              "      <td>0.845892</td>\n",
              "      <td>0.0</td>\n",
              "    </tr>\n",
              "    <tr>\n",
              "      <th>16</th>\n",
              "      <td>max fpr</td>\n",
              "      <td>3.718158e-08</td>\n",
              "      <td>1.000000</td>\n",
              "      <td>399.0</td>\n",
              "    </tr>\n",
              "    <tr>\n",
              "      <th>17</th>\n",
              "      <td>max tpr</td>\n",
              "      <td>9.630946e-01</td>\n",
              "      <td>1.000000</td>\n",
              "      <td>212.0</td>\n",
              "    </tr>\n",
              "  </tbody>\n",
              "</table>\n",
              "</div>"
            ],
            "text/plain": [
              "                         metric     threshold        value    idx\n",
              "0                        max f1  9.630946e-01     1.000000  212.0\n",
              "1                        max f2  9.630946e-01     1.000000  212.0\n",
              "2                  max f0point5  9.630946e-01     1.000000  212.0\n",
              "3                  max accuracy  9.630946e-01     1.000000  212.0\n",
              "4                 max precision  9.999993e-01     1.000000    0.0\n",
              "5                    max recall  9.630946e-01     1.000000  212.0\n",
              "6               max specificity  9.999993e-01     1.000000    0.0\n",
              "7              max absolute_mcc  9.630946e-01     1.000000  212.0\n",
              "8    max min_per_class_accuracy  9.630946e-01     1.000000  212.0\n",
              "9   max mean_per_class_accuracy  9.630946e-01     1.000000  212.0\n",
              "10                      max tns  9.999993e-01  5010.000000    0.0\n",
              "11                      max fns  9.999993e-01  4221.000000    0.0\n",
              "12                      max fps  3.718158e-08  5010.000000  399.0\n",
              "13                      max tps  9.630946e-01  4990.000000  212.0\n",
              "14                      max tnr  9.999993e-01     1.000000    0.0\n",
              "15                      max fnr  9.999993e-01     0.845892    0.0\n",
              "16                      max fpr  3.718158e-08     1.000000  399.0\n",
              "17                      max tpr  9.630946e-01     1.000000  212.0"
            ]
          },
          "metadata": {}
        },
        {
          "output_type": "stream",
          "text": [
            "\n",
            "Gains/Lift Table: Avg response rate: 49.90 %, avg score: 49.90 %\n"
          ],
          "name": "stdout"
        },
        {
          "output_type": "display_data",
          "data": {
            "text/html": [
              "<div>\n",
              "<style scoped>\n",
              "    .dataframe tbody tr th:only-of-type {\n",
              "        vertical-align: middle;\n",
              "    }\n",
              "\n",
              "    .dataframe tbody tr th {\n",
              "        vertical-align: top;\n",
              "    }\n",
              "\n",
              "    .dataframe thead th {\n",
              "        text-align: right;\n",
              "    }\n",
              "</style>\n",
              "<table border=\"1\" class=\"dataframe\">\n",
              "  <thead>\n",
              "    <tr style=\"text-align: right;\">\n",
              "      <th></th>\n",
              "      <th>group</th>\n",
              "      <th>cumulative_data_fraction</th>\n",
              "      <th>lower_threshold</th>\n",
              "      <th>lift</th>\n",
              "      <th>cumulative_lift</th>\n",
              "      <th>response_rate</th>\n",
              "      <th>score</th>\n",
              "      <th>cumulative_response_rate</th>\n",
              "      <th>cumulative_score</th>\n",
              "      <th>capture_rate</th>\n",
              "      <th>cumulative_capture_rate</th>\n",
              "      <th>gain</th>\n",
              "      <th>cumulative_gain</th>\n",
              "      <th>kolmogorov_smirnov</th>\n",
              "    </tr>\n",
              "  </thead>\n",
              "  <tbody>\n",
              "    <tr>\n",
              "      <th>0</th>\n",
              "      <td>1</td>\n",
              "      <td>0.0260</td>\n",
              "      <td>9.999995e-01</td>\n",
              "      <td>2.004008</td>\n",
              "      <td>2.004008</td>\n",
              "      <td>1.00</td>\n",
              "      <td>9.999995e-01</td>\n",
              "      <td>1.000000</td>\n",
              "      <td>1.000000</td>\n",
              "      <td>0.052104</td>\n",
              "      <td>0.052104</td>\n",
              "      <td>100.400802</td>\n",
              "      <td>100.400802</td>\n",
              "      <td>0.052104</td>\n",
              "    </tr>\n",
              "    <tr>\n",
              "      <th>1</th>\n",
              "      <td>2</td>\n",
              "      <td>0.0477</td>\n",
              "      <td>9.999994e-01</td>\n",
              "      <td>2.004008</td>\n",
              "      <td>2.004008</td>\n",
              "      <td>1.00</td>\n",
              "      <td>9.999994e-01</td>\n",
              "      <td>1.000000</td>\n",
              "      <td>0.999999</td>\n",
              "      <td>0.043487</td>\n",
              "      <td>0.095591</td>\n",
              "      <td>100.400802</td>\n",
              "      <td>100.400802</td>\n",
              "      <td>0.095591</td>\n",
              "    </tr>\n",
              "    <tr>\n",
              "      <th>2</th>\n",
              "      <td>3</td>\n",
              "      <td>0.0520</td>\n",
              "      <td>9.999993e-01</td>\n",
              "      <td>2.004008</td>\n",
              "      <td>2.004008</td>\n",
              "      <td>1.00</td>\n",
              "      <td>9.999993e-01</td>\n",
              "      <td>1.000000</td>\n",
              "      <td>0.999999</td>\n",
              "      <td>0.008617</td>\n",
              "      <td>0.104208</td>\n",
              "      <td>100.400802</td>\n",
              "      <td>100.400802</td>\n",
              "      <td>0.104208</td>\n",
              "    </tr>\n",
              "    <tr>\n",
              "      <th>3</th>\n",
              "      <td>4</td>\n",
              "      <td>0.1049</td>\n",
              "      <td>9.999949e-01</td>\n",
              "      <td>2.004008</td>\n",
              "      <td>2.004008</td>\n",
              "      <td>1.00</td>\n",
              "      <td>9.999970e-01</td>\n",
              "      <td>1.000000</td>\n",
              "      <td>0.999998</td>\n",
              "      <td>0.106012</td>\n",
              "      <td>0.210220</td>\n",
              "      <td>100.400802</td>\n",
              "      <td>100.400802</td>\n",
              "      <td>0.210220</td>\n",
              "    </tr>\n",
              "    <tr>\n",
              "      <th>4</th>\n",
              "      <td>5</td>\n",
              "      <td>0.1524</td>\n",
              "      <td>9.999942e-01</td>\n",
              "      <td>2.004008</td>\n",
              "      <td>2.004008</td>\n",
              "      <td>1.00</td>\n",
              "      <td>9.999945e-01</td>\n",
              "      <td>1.000000</td>\n",
              "      <td>0.999997</td>\n",
              "      <td>0.095190</td>\n",
              "      <td>0.305411</td>\n",
              "      <td>100.400802</td>\n",
              "      <td>100.400802</td>\n",
              "      <td>0.305411</td>\n",
              "    </tr>\n",
              "    <tr>\n",
              "      <th>5</th>\n",
              "      <td>6</td>\n",
              "      <td>0.2008</td>\n",
              "      <td>9.999816e-01</td>\n",
              "      <td>2.004008</td>\n",
              "      <td>2.004008</td>\n",
              "      <td>1.00</td>\n",
              "      <td>9.999877e-01</td>\n",
              "      <td>1.000000</td>\n",
              "      <td>0.999995</td>\n",
              "      <td>0.096994</td>\n",
              "      <td>0.402405</td>\n",
              "      <td>100.400802</td>\n",
              "      <td>100.400802</td>\n",
              "      <td>0.402405</td>\n",
              "    </tr>\n",
              "    <tr>\n",
              "      <th>6</th>\n",
              "      <td>7</td>\n",
              "      <td>0.3000</td>\n",
              "      <td>9.997314e-01</td>\n",
              "      <td>2.004008</td>\n",
              "      <td>2.004008</td>\n",
              "      <td>1.00</td>\n",
              "      <td>9.999018e-01</td>\n",
              "      <td>1.000000</td>\n",
              "      <td>0.999964</td>\n",
              "      <td>0.198798</td>\n",
              "      <td>0.601202</td>\n",
              "      <td>100.400802</td>\n",
              "      <td>100.400802</td>\n",
              "      <td>0.601202</td>\n",
              "    </tr>\n",
              "    <tr>\n",
              "      <th>7</th>\n",
              "      <td>8</td>\n",
              "      <td>0.4000</td>\n",
              "      <td>9.990464e-01</td>\n",
              "      <td>2.004008</td>\n",
              "      <td>2.004008</td>\n",
              "      <td>1.00</td>\n",
              "      <td>9.992229e-01</td>\n",
              "      <td>1.000000</td>\n",
              "      <td>0.999779</td>\n",
              "      <td>0.200401</td>\n",
              "      <td>0.801603</td>\n",
              "      <td>100.400802</td>\n",
              "      <td>100.400802</td>\n",
              "      <td>0.801603</td>\n",
              "    </tr>\n",
              "    <tr>\n",
              "      <th>8</th>\n",
              "      <td>9</td>\n",
              "      <td>0.5000</td>\n",
              "      <td>7.590063e-03</td>\n",
              "      <td>1.983968</td>\n",
              "      <td>2.000000</td>\n",
              "      <td>0.99</td>\n",
              "      <td>9.875568e-01</td>\n",
              "      <td>0.998000</td>\n",
              "      <td>0.997334</td>\n",
              "      <td>0.198397</td>\n",
              "      <td>1.000000</td>\n",
              "      <td>98.396794</td>\n",
              "      <td>100.000000</td>\n",
              "      <td>0.998004</td>\n",
              "    </tr>\n",
              "    <tr>\n",
              "      <th>9</th>\n",
              "      <td>10</td>\n",
              "      <td>0.6000</td>\n",
              "      <td>1.080139e-03</td>\n",
              "      <td>0.000000</td>\n",
              "      <td>1.666667</td>\n",
              "      <td>0.00</td>\n",
              "      <td>2.744405e-03</td>\n",
              "      <td>0.831667</td>\n",
              "      <td>0.831569</td>\n",
              "      <td>0.000000</td>\n",
              "      <td>1.000000</td>\n",
              "      <td>-100.000000</td>\n",
              "      <td>66.666667</td>\n",
              "      <td>0.798403</td>\n",
              "    </tr>\n",
              "    <tr>\n",
              "      <th>10</th>\n",
              "      <td>11</td>\n",
              "      <td>0.7000</td>\n",
              "      <td>3.753597e-05</td>\n",
              "      <td>0.000000</td>\n",
              "      <td>1.428571</td>\n",
              "      <td>0.00</td>\n",
              "      <td>5.739253e-04</td>\n",
              "      <td>0.712857</td>\n",
              "      <td>0.712856</td>\n",
              "      <td>0.000000</td>\n",
              "      <td>1.000000</td>\n",
              "      <td>-100.000000</td>\n",
              "      <td>42.857143</td>\n",
              "      <td>0.598802</td>\n",
              "    </tr>\n",
              "    <tr>\n",
              "      <th>11</th>\n",
              "      <td>12</td>\n",
              "      <td>0.8000</td>\n",
              "      <td>9.323981e-06</td>\n",
              "      <td>0.000000</td>\n",
              "      <td>1.250000</td>\n",
              "      <td>0.00</td>\n",
              "      <td>1.707628e-05</td>\n",
              "      <td>0.623750</td>\n",
              "      <td>0.623751</td>\n",
              "      <td>0.000000</td>\n",
              "      <td>1.000000</td>\n",
              "      <td>-100.000000</td>\n",
              "      <td>25.000000</td>\n",
              "      <td>0.399202</td>\n",
              "    </tr>\n",
              "    <tr>\n",
              "      <th>12</th>\n",
              "      <td>13</td>\n",
              "      <td>0.9000</td>\n",
              "      <td>3.886654e-08</td>\n",
              "      <td>0.000000</td>\n",
              "      <td>1.111111</td>\n",
              "      <td>0.00</td>\n",
              "      <td>4.387976e-06</td>\n",
              "      <td>0.554444</td>\n",
              "      <td>0.554446</td>\n",
              "      <td>0.000000</td>\n",
              "      <td>1.000000</td>\n",
              "      <td>-100.000000</td>\n",
              "      <td>11.111111</td>\n",
              "      <td>0.199601</td>\n",
              "    </tr>\n",
              "    <tr>\n",
              "      <th>13</th>\n",
              "      <td>14</td>\n",
              "      <td>1.0000</td>\n",
              "      <td>3.318124e-08</td>\n",
              "      <td>0.000000</td>\n",
              "      <td>1.000000</td>\n",
              "      <td>0.00</td>\n",
              "      <td>3.510488e-08</td>\n",
              "      <td>0.499000</td>\n",
              "      <td>0.499001</td>\n",
              "      <td>0.000000</td>\n",
              "      <td>1.000000</td>\n",
              "      <td>-100.000000</td>\n",
              "      <td>0.000000</td>\n",
              "      <td>0.000000</td>\n",
              "    </tr>\n",
              "  </tbody>\n",
              "</table>\n",
              "</div>"
            ],
            "text/plain": [
              "    group  cumulative_data_fraction  ...  cumulative_gain  kolmogorov_smirnov\n",
              "0       1                    0.0260  ...       100.400802            0.052104\n",
              "1       2                    0.0477  ...       100.400802            0.095591\n",
              "2       3                    0.0520  ...       100.400802            0.104208\n",
              "3       4                    0.1049  ...       100.400802            0.210220\n",
              "4       5                    0.1524  ...       100.400802            0.305411\n",
              "5       6                    0.2008  ...       100.400802            0.402405\n",
              "6       7                    0.3000  ...       100.400802            0.601202\n",
              "7       8                    0.4000  ...       100.400802            0.801603\n",
              "8       9                    0.5000  ...       100.000000            0.998004\n",
              "9      10                    0.6000  ...        66.666667            0.798403\n",
              "10     11                    0.7000  ...        42.857143            0.598802\n",
              "11     12                    0.8000  ...        25.000000            0.399202\n",
              "12     13                    0.9000  ...        11.111111            0.199601\n",
              "13     14                    1.0000  ...         0.000000            0.000000\n",
              "\n",
              "[14 rows x 14 columns]"
            ]
          },
          "metadata": {}
        },
        {
          "output_type": "stream",
          "text": [
            "\n",
            "\n",
            "ModelMetricsBinomial: xgboost\n",
            "** Reported on cross-validation data. **\n",
            "\n",
            "MSE: 6.9681495214339864e-06\n",
            "RMSE: 0.002639725273855972\n",
            "LogLoss: 0.0009149534709473635\n",
            "Mean Per-Class Error: 0.0\n",
            "AUC: 1.0\n",
            "AUCPR: 1.0\n",
            "Gini: 1.0\n",
            "\n",
            "Confusion Matrix (Act/Pred) for max f1 @ threshold = 0.9341415762901306: \n"
          ],
          "name": "stdout"
        },
        {
          "output_type": "display_data",
          "data": {
            "text/html": [
              "<div>\n",
              "<style scoped>\n",
              "    .dataframe tbody tr th:only-of-type {\n",
              "        vertical-align: middle;\n",
              "    }\n",
              "\n",
              "    .dataframe tbody tr th {\n",
              "        vertical-align: top;\n",
              "    }\n",
              "\n",
              "    .dataframe thead th {\n",
              "        text-align: right;\n",
              "    }\n",
              "</style>\n",
              "<table border=\"1\" class=\"dataframe\">\n",
              "  <thead>\n",
              "    <tr style=\"text-align: right;\">\n",
              "      <th></th>\n",
              "      <th></th>\n",
              "      <th>Negative</th>\n",
              "      <th>Positive</th>\n",
              "      <th>Error</th>\n",
              "      <th>Rate</th>\n",
              "    </tr>\n",
              "  </thead>\n",
              "  <tbody>\n",
              "    <tr>\n",
              "      <th>0</th>\n",
              "      <td>Negative</td>\n",
              "      <td>5010.0</td>\n",
              "      <td>0.0</td>\n",
              "      <td>0.0</td>\n",
              "      <td>(0.0/5010.0)</td>\n",
              "    </tr>\n",
              "    <tr>\n",
              "      <th>1</th>\n",
              "      <td>Positive</td>\n",
              "      <td>0.0</td>\n",
              "      <td>4990.0</td>\n",
              "      <td>0.0</td>\n",
              "      <td>(0.0/4990.0)</td>\n",
              "    </tr>\n",
              "    <tr>\n",
              "      <th>2</th>\n",
              "      <td>Total</td>\n",
              "      <td>5010.0</td>\n",
              "      <td>4990.0</td>\n",
              "      <td>0.0</td>\n",
              "      <td>(0.0/10000.0)</td>\n",
              "    </tr>\n",
              "  </tbody>\n",
              "</table>\n",
              "</div>"
            ],
            "text/plain": [
              "             Negative  Positive Error            Rate\n",
              "0  Negative    5010.0       0.0   0.0    (0.0/5010.0)\n",
              "1  Positive       0.0    4990.0   0.0    (0.0/4990.0)\n",
              "2     Total    5010.0    4990.0   0.0   (0.0/10000.0)"
            ]
          },
          "metadata": {}
        },
        {
          "output_type": "stream",
          "text": [
            "\n",
            "Maximum Metrics: Maximum metrics at their respective thresholds\n"
          ],
          "name": "stdout"
        },
        {
          "output_type": "display_data",
          "data": {
            "text/html": [
              "<div>\n",
              "<style scoped>\n",
              "    .dataframe tbody tr th:only-of-type {\n",
              "        vertical-align: middle;\n",
              "    }\n",
              "\n",
              "    .dataframe tbody tr th {\n",
              "        vertical-align: top;\n",
              "    }\n",
              "\n",
              "    .dataframe thead th {\n",
              "        text-align: right;\n",
              "    }\n",
              "</style>\n",
              "<table border=\"1\" class=\"dataframe\">\n",
              "  <thead>\n",
              "    <tr style=\"text-align: right;\">\n",
              "      <th></th>\n",
              "      <th>metric</th>\n",
              "      <th>threshold</th>\n",
              "      <th>value</th>\n",
              "      <th>idx</th>\n",
              "    </tr>\n",
              "  </thead>\n",
              "  <tbody>\n",
              "    <tr>\n",
              "      <th>0</th>\n",
              "      <td>max f1</td>\n",
              "      <td>9.341416e-01</td>\n",
              "      <td>1.000000</td>\n",
              "      <td>207.0</td>\n",
              "    </tr>\n",
              "    <tr>\n",
              "      <th>1</th>\n",
              "      <td>max f2</td>\n",
              "      <td>9.341416e-01</td>\n",
              "      <td>1.000000</td>\n",
              "      <td>207.0</td>\n",
              "    </tr>\n",
              "    <tr>\n",
              "      <th>2</th>\n",
              "      <td>max f0point5</td>\n",
              "      <td>9.341416e-01</td>\n",
              "      <td>1.000000</td>\n",
              "      <td>207.0</td>\n",
              "    </tr>\n",
              "    <tr>\n",
              "      <th>3</th>\n",
              "      <td>max accuracy</td>\n",
              "      <td>9.341416e-01</td>\n",
              "      <td>1.000000</td>\n",
              "      <td>207.0</td>\n",
              "    </tr>\n",
              "    <tr>\n",
              "      <th>4</th>\n",
              "      <td>max precision</td>\n",
              "      <td>9.999991e-01</td>\n",
              "      <td>1.000000</td>\n",
              "      <td>0.0</td>\n",
              "    </tr>\n",
              "    <tr>\n",
              "      <th>5</th>\n",
              "      <td>max recall</td>\n",
              "      <td>9.341416e-01</td>\n",
              "      <td>1.000000</td>\n",
              "      <td>207.0</td>\n",
              "    </tr>\n",
              "    <tr>\n",
              "      <th>6</th>\n",
              "      <td>max specificity</td>\n",
              "      <td>9.999991e-01</td>\n",
              "      <td>1.000000</td>\n",
              "      <td>0.0</td>\n",
              "    </tr>\n",
              "    <tr>\n",
              "      <th>7</th>\n",
              "      <td>max absolute_mcc</td>\n",
              "      <td>9.341416e-01</td>\n",
              "      <td>1.000000</td>\n",
              "      <td>207.0</td>\n",
              "    </tr>\n",
              "    <tr>\n",
              "      <th>8</th>\n",
              "      <td>max min_per_class_accuracy</td>\n",
              "      <td>9.341416e-01</td>\n",
              "      <td>1.000000</td>\n",
              "      <td>207.0</td>\n",
              "    </tr>\n",
              "    <tr>\n",
              "      <th>9</th>\n",
              "      <td>max mean_per_class_accuracy</td>\n",
              "      <td>9.341416e-01</td>\n",
              "      <td>1.000000</td>\n",
              "      <td>207.0</td>\n",
              "    </tr>\n",
              "    <tr>\n",
              "      <th>10</th>\n",
              "      <td>max tns</td>\n",
              "      <td>9.999991e-01</td>\n",
              "      <td>5010.000000</td>\n",
              "      <td>0.0</td>\n",
              "    </tr>\n",
              "    <tr>\n",
              "      <th>11</th>\n",
              "      <td>max fns</td>\n",
              "      <td>9.999991e-01</td>\n",
              "      <td>3258.000000</td>\n",
              "      <td>0.0</td>\n",
              "    </tr>\n",
              "    <tr>\n",
              "      <th>12</th>\n",
              "      <td>max fps</td>\n",
              "      <td>1.302737e-08</td>\n",
              "      <td>5010.000000</td>\n",
              "      <td>399.0</td>\n",
              "    </tr>\n",
              "    <tr>\n",
              "      <th>13</th>\n",
              "      <td>max tps</td>\n",
              "      <td>9.341416e-01</td>\n",
              "      <td>4990.000000</td>\n",
              "      <td>207.0</td>\n",
              "    </tr>\n",
              "    <tr>\n",
              "      <th>14</th>\n",
              "      <td>max tnr</td>\n",
              "      <td>9.999991e-01</td>\n",
              "      <td>1.000000</td>\n",
              "      <td>0.0</td>\n",
              "    </tr>\n",
              "    <tr>\n",
              "      <th>15</th>\n",
              "      <td>max fnr</td>\n",
              "      <td>9.999991e-01</td>\n",
              "      <td>0.652906</td>\n",
              "      <td>0.0</td>\n",
              "    </tr>\n",
              "    <tr>\n",
              "      <th>16</th>\n",
              "      <td>max fpr</td>\n",
              "      <td>1.302737e-08</td>\n",
              "      <td>1.000000</td>\n",
              "      <td>399.0</td>\n",
              "    </tr>\n",
              "    <tr>\n",
              "      <th>17</th>\n",
              "      <td>max tpr</td>\n",
              "      <td>9.341416e-01</td>\n",
              "      <td>1.000000</td>\n",
              "      <td>207.0</td>\n",
              "    </tr>\n",
              "  </tbody>\n",
              "</table>\n",
              "</div>"
            ],
            "text/plain": [
              "                         metric     threshold        value    idx\n",
              "0                        max f1  9.341416e-01     1.000000  207.0\n",
              "1                        max f2  9.341416e-01     1.000000  207.0\n",
              "2                  max f0point5  9.341416e-01     1.000000  207.0\n",
              "3                  max accuracy  9.341416e-01     1.000000  207.0\n",
              "4                 max precision  9.999991e-01     1.000000    0.0\n",
              "5                    max recall  9.341416e-01     1.000000  207.0\n",
              "6               max specificity  9.999991e-01     1.000000    0.0\n",
              "7              max absolute_mcc  9.341416e-01     1.000000  207.0\n",
              "8    max min_per_class_accuracy  9.341416e-01     1.000000  207.0\n",
              "9   max mean_per_class_accuracy  9.341416e-01     1.000000  207.0\n",
              "10                      max tns  9.999991e-01  5010.000000    0.0\n",
              "11                      max fns  9.999991e-01  3258.000000    0.0\n",
              "12                      max fps  1.302737e-08  5010.000000  399.0\n",
              "13                      max tps  9.341416e-01  4990.000000  207.0\n",
              "14                      max tnr  9.999991e-01     1.000000    0.0\n",
              "15                      max fnr  9.999991e-01     0.652906    0.0\n",
              "16                      max fpr  1.302737e-08     1.000000  399.0\n",
              "17                      max tpr  9.341416e-01     1.000000  207.0"
            ]
          },
          "metadata": {}
        },
        {
          "output_type": "stream",
          "text": [
            "\n",
            "Gains/Lift Table: Avg response rate: 49.90 %, avg score: 49.90 %\n"
          ],
          "name": "stdout"
        },
        {
          "output_type": "display_data",
          "data": {
            "text/html": [
              "<div>\n",
              "<style scoped>\n",
              "    .dataframe tbody tr th:only-of-type {\n",
              "        vertical-align: middle;\n",
              "    }\n",
              "\n",
              "    .dataframe tbody tr th {\n",
              "        vertical-align: top;\n",
              "    }\n",
              "\n",
              "    .dataframe thead th {\n",
              "        text-align: right;\n",
              "    }\n",
              "</style>\n",
              "<table border=\"1\" class=\"dataframe\">\n",
              "  <thead>\n",
              "    <tr style=\"text-align: right;\">\n",
              "      <th></th>\n",
              "      <th>group</th>\n",
              "      <th>cumulative_data_fraction</th>\n",
              "      <th>lower_threshold</th>\n",
              "      <th>lift</th>\n",
              "      <th>cumulative_lift</th>\n",
              "      <th>response_rate</th>\n",
              "      <th>score</th>\n",
              "      <th>cumulative_response_rate</th>\n",
              "      <th>cumulative_score</th>\n",
              "      <th>capture_rate</th>\n",
              "      <th>cumulative_capture_rate</th>\n",
              "      <th>gain</th>\n",
              "      <th>cumulative_gain</th>\n",
              "      <th>kolmogorov_smirnov</th>\n",
              "    </tr>\n",
              "  </thead>\n",
              "  <tbody>\n",
              "    <tr>\n",
              "      <th>0</th>\n",
              "      <td>1</td>\n",
              "      <td>0.0145</td>\n",
              "      <td>9.999999e-01</td>\n",
              "      <td>2.004008</td>\n",
              "      <td>2.004008</td>\n",
              "      <td>1.00</td>\n",
              "      <td>9.999999e-01</td>\n",
              "      <td>1.000000</td>\n",
              "      <td>1.000000</td>\n",
              "      <td>0.029058</td>\n",
              "      <td>0.029058</td>\n",
              "      <td>100.400802</td>\n",
              "      <td>100.400802</td>\n",
              "      <td>0.029058</td>\n",
              "    </tr>\n",
              "    <tr>\n",
              "      <th>1</th>\n",
              "      <td>2</td>\n",
              "      <td>0.0544</td>\n",
              "      <td>9.999998e-01</td>\n",
              "      <td>2.004008</td>\n",
              "      <td>2.004008</td>\n",
              "      <td>1.00</td>\n",
              "      <td>9.999998e-01</td>\n",
              "      <td>1.000000</td>\n",
              "      <td>1.000000</td>\n",
              "      <td>0.079960</td>\n",
              "      <td>0.109018</td>\n",
              "      <td>100.400802</td>\n",
              "      <td>100.400802</td>\n",
              "      <td>0.109018</td>\n",
              "    </tr>\n",
              "    <tr>\n",
              "      <th>2</th>\n",
              "      <td>3</td>\n",
              "      <td>0.1051</td>\n",
              "      <td>9.999987e-01</td>\n",
              "      <td>2.004008</td>\n",
              "      <td>2.004008</td>\n",
              "      <td>1.00</td>\n",
              "      <td>9.999991e-01</td>\n",
              "      <td>1.000000</td>\n",
              "      <td>0.999999</td>\n",
              "      <td>0.101603</td>\n",
              "      <td>0.210621</td>\n",
              "      <td>100.400802</td>\n",
              "      <td>100.400802</td>\n",
              "      <td>0.210621</td>\n",
              "    </tr>\n",
              "    <tr>\n",
              "      <th>3</th>\n",
              "      <td>4</td>\n",
              "      <td>0.1550</td>\n",
              "      <td>9.999985e-01</td>\n",
              "      <td>2.004008</td>\n",
              "      <td>2.004008</td>\n",
              "      <td>1.00</td>\n",
              "      <td>9.999985e-01</td>\n",
              "      <td>1.000000</td>\n",
              "      <td>0.999999</td>\n",
              "      <td>0.100000</td>\n",
              "      <td>0.310621</td>\n",
              "      <td>100.400802</td>\n",
              "      <td>100.400802</td>\n",
              "      <td>0.310621</td>\n",
              "    </tr>\n",
              "    <tr>\n",
              "      <th>4</th>\n",
              "      <td>5</td>\n",
              "      <td>0.2002</td>\n",
              "      <td>9.999850e-01</td>\n",
              "      <td>2.004008</td>\n",
              "      <td>2.004008</td>\n",
              "      <td>1.00</td>\n",
              "      <td>9.999914e-01</td>\n",
              "      <td>1.000000</td>\n",
              "      <td>0.999997</td>\n",
              "      <td>0.090581</td>\n",
              "      <td>0.401202</td>\n",
              "      <td>100.400802</td>\n",
              "      <td>100.400802</td>\n",
              "      <td>0.401202</td>\n",
              "    </tr>\n",
              "    <tr>\n",
              "      <th>5</th>\n",
              "      <td>6</td>\n",
              "      <td>0.3000</td>\n",
              "      <td>9.995455e-01</td>\n",
              "      <td>2.004008</td>\n",
              "      <td>2.004008</td>\n",
              "      <td>1.00</td>\n",
              "      <td>9.998457e-01</td>\n",
              "      <td>1.000000</td>\n",
              "      <td>0.999947</td>\n",
              "      <td>0.200000</td>\n",
              "      <td>0.601202</td>\n",
              "      <td>100.400802</td>\n",
              "      <td>100.400802</td>\n",
              "      <td>0.601202</td>\n",
              "    </tr>\n",
              "    <tr>\n",
              "      <th>6</th>\n",
              "      <td>7</td>\n",
              "      <td>0.4000</td>\n",
              "      <td>9.988738e-01</td>\n",
              "      <td>2.004008</td>\n",
              "      <td>2.004008</td>\n",
              "      <td>1.00</td>\n",
              "      <td>9.990470e-01</td>\n",
              "      <td>1.000000</td>\n",
              "      <td>0.999722</td>\n",
              "      <td>0.200401</td>\n",
              "      <td>0.801603</td>\n",
              "      <td>100.400802</td>\n",
              "      <td>100.400802</td>\n",
              "      <td>0.801603</td>\n",
              "    </tr>\n",
              "    <tr>\n",
              "      <th>7</th>\n",
              "      <td>8</td>\n",
              "      <td>0.5000</td>\n",
              "      <td>9.643740e-03</td>\n",
              "      <td>1.983968</td>\n",
              "      <td>2.000000</td>\n",
              "      <td>0.99</td>\n",
              "      <td>9.865367e-01</td>\n",
              "      <td>0.998000</td>\n",
              "      <td>0.997085</td>\n",
              "      <td>0.198397</td>\n",
              "      <td>1.000000</td>\n",
              "      <td>98.396794</td>\n",
              "      <td>100.000000</td>\n",
              "      <td>0.998004</td>\n",
              "    </tr>\n",
              "    <tr>\n",
              "      <th>8</th>\n",
              "      <td>9</td>\n",
              "      <td>0.6000</td>\n",
              "      <td>1.415534e-03</td>\n",
              "      <td>0.000000</td>\n",
              "      <td>1.666667</td>\n",
              "      <td>0.00</td>\n",
              "      <td>3.493634e-03</td>\n",
              "      <td>0.831667</td>\n",
              "      <td>0.831486</td>\n",
              "      <td>0.000000</td>\n",
              "      <td>1.000000</td>\n",
              "      <td>-100.000000</td>\n",
              "      <td>66.666667</td>\n",
              "      <td>0.798403</td>\n",
              "    </tr>\n",
              "    <tr>\n",
              "      <th>9</th>\n",
              "      <td>10</td>\n",
              "      <td>0.7000</td>\n",
              "      <td>2.531925e-05</td>\n",
              "      <td>0.000000</td>\n",
              "      <td>1.428571</td>\n",
              "      <td>0.00</td>\n",
              "      <td>7.901996e-04</td>\n",
              "      <td>0.712857</td>\n",
              "      <td>0.712815</td>\n",
              "      <td>0.000000</td>\n",
              "      <td>1.000000</td>\n",
              "      <td>-100.000000</td>\n",
              "      <td>42.857143</td>\n",
              "      <td>0.598802</td>\n",
              "    </tr>\n",
              "    <tr>\n",
              "      <th>10</th>\n",
              "      <td>11</td>\n",
              "      <td>0.8001</td>\n",
              "      <td>1.302578e-05</td>\n",
              "      <td>0.000000</td>\n",
              "      <td>1.249844</td>\n",
              "      <td>0.00</td>\n",
              "      <td>1.595227e-05</td>\n",
              "      <td>0.623672</td>\n",
              "      <td>0.623638</td>\n",
              "      <td>0.000000</td>\n",
              "      <td>1.000000</td>\n",
              "      <td>-100.000000</td>\n",
              "      <td>24.984377</td>\n",
              "      <td>0.399002</td>\n",
              "    </tr>\n",
              "    <tr>\n",
              "      <th>11</th>\n",
              "      <td>12</td>\n",
              "      <td>0.9000</td>\n",
              "      <td>1.381569e-08</td>\n",
              "      <td>0.000000</td>\n",
              "      <td>1.111111</td>\n",
              "      <td>0.00</td>\n",
              "      <td>5.602649e-06</td>\n",
              "      <td>0.554444</td>\n",
              "      <td>0.554414</td>\n",
              "      <td>0.000000</td>\n",
              "      <td>1.000000</td>\n",
              "      <td>-100.000000</td>\n",
              "      <td>11.111111</td>\n",
              "      <td>0.199601</td>\n",
              "    </tr>\n",
              "    <tr>\n",
              "      <th>12</th>\n",
              "      <td>13</td>\n",
              "      <td>1.0000</td>\n",
              "      <td>9.474364e-09</td>\n",
              "      <td>0.000000</td>\n",
              "      <td>1.000000</td>\n",
              "      <td>0.00</td>\n",
              "      <td>1.178322e-08</td>\n",
              "      <td>0.499000</td>\n",
              "      <td>0.498973</td>\n",
              "      <td>0.000000</td>\n",
              "      <td>1.000000</td>\n",
              "      <td>-100.000000</td>\n",
              "      <td>0.000000</td>\n",
              "      <td>0.000000</td>\n",
              "    </tr>\n",
              "  </tbody>\n",
              "</table>\n",
              "</div>"
            ],
            "text/plain": [
              "    group  cumulative_data_fraction  ...  cumulative_gain  kolmogorov_smirnov\n",
              "0       1                    0.0145  ...       100.400802            0.029058\n",
              "1       2                    0.0544  ...       100.400802            0.109018\n",
              "2       3                    0.1051  ...       100.400802            0.210621\n",
              "3       4                    0.1550  ...       100.400802            0.310621\n",
              "4       5                    0.2002  ...       100.400802            0.401202\n",
              "5       6                    0.3000  ...       100.400802            0.601202\n",
              "6       7                    0.4000  ...       100.400802            0.801603\n",
              "7       8                    0.5000  ...       100.000000            0.998004\n",
              "8       9                    0.6000  ...        66.666667            0.798403\n",
              "9      10                    0.7000  ...        42.857143            0.598802\n",
              "10     11                    0.8001  ...        24.984377            0.399002\n",
              "11     12                    0.9000  ...        11.111111            0.199601\n",
              "12     13                    1.0000  ...         0.000000            0.000000\n",
              "\n",
              "[13 rows x 14 columns]"
            ]
          },
          "metadata": {}
        },
        {
          "output_type": "stream",
          "text": [
            "\n",
            "\n",
            "Cross-Validation Metrics Summary: \n"
          ],
          "name": "stdout"
        },
        {
          "output_type": "display_data",
          "data": {
            "text/html": [
              "<div>\n",
              "<style scoped>\n",
              "    .dataframe tbody tr th:only-of-type {\n",
              "        vertical-align: middle;\n",
              "    }\n",
              "\n",
              "    .dataframe tbody tr th {\n",
              "        vertical-align: top;\n",
              "    }\n",
              "\n",
              "    .dataframe thead th {\n",
              "        text-align: right;\n",
              "    }\n",
              "</style>\n",
              "<table border=\"1\" class=\"dataframe\">\n",
              "  <thead>\n",
              "    <tr style=\"text-align: right;\">\n",
              "      <th></th>\n",
              "      <th></th>\n",
              "      <th>mean</th>\n",
              "      <th>sd</th>\n",
              "      <th>cv_1_valid</th>\n",
              "      <th>cv_2_valid</th>\n",
              "      <th>cv_3_valid</th>\n",
              "      <th>cv_4_valid</th>\n",
              "      <th>cv_5_valid</th>\n",
              "    </tr>\n",
              "  </thead>\n",
              "  <tbody>\n",
              "    <tr>\n",
              "      <th>0</th>\n",
              "      <td>accuracy</td>\n",
              "      <td>1.0</td>\n",
              "      <td>0.0</td>\n",
              "      <td>1.0</td>\n",
              "      <td>1.0</td>\n",
              "      <td>1.0</td>\n",
              "      <td>1.0</td>\n",
              "      <td>1.0</td>\n",
              "    </tr>\n",
              "    <tr>\n",
              "      <th>1</th>\n",
              "      <td>auc</td>\n",
              "      <td>1.0</td>\n",
              "      <td>0.0</td>\n",
              "      <td>1.0</td>\n",
              "      <td>1.0</td>\n",
              "      <td>1.0</td>\n",
              "      <td>1.0</td>\n",
              "      <td>1.0</td>\n",
              "    </tr>\n",
              "    <tr>\n",
              "      <th>2</th>\n",
              "      <td>err</td>\n",
              "      <td>0.0</td>\n",
              "      <td>0.0</td>\n",
              "      <td>0.0</td>\n",
              "      <td>0.0</td>\n",
              "      <td>0.0</td>\n",
              "      <td>0.0</td>\n",
              "      <td>0.0</td>\n",
              "    </tr>\n",
              "    <tr>\n",
              "      <th>3</th>\n",
              "      <td>err_count</td>\n",
              "      <td>0.0</td>\n",
              "      <td>0.0</td>\n",
              "      <td>0.0</td>\n",
              "      <td>0.0</td>\n",
              "      <td>0.0</td>\n",
              "      <td>0.0</td>\n",
              "      <td>0.0</td>\n",
              "    </tr>\n",
              "    <tr>\n",
              "      <th>4</th>\n",
              "      <td>f0point5</td>\n",
              "      <td>1.0</td>\n",
              "      <td>0.0</td>\n",
              "      <td>1.0</td>\n",
              "      <td>1.0</td>\n",
              "      <td>1.0</td>\n",
              "      <td>1.0</td>\n",
              "      <td>1.0</td>\n",
              "    </tr>\n",
              "    <tr>\n",
              "      <th>5</th>\n",
              "      <td>f1</td>\n",
              "      <td>1.0</td>\n",
              "      <td>0.0</td>\n",
              "      <td>1.0</td>\n",
              "      <td>1.0</td>\n",
              "      <td>1.0</td>\n",
              "      <td>1.0</td>\n",
              "      <td>1.0</td>\n",
              "    </tr>\n",
              "    <tr>\n",
              "      <th>6</th>\n",
              "      <td>f2</td>\n",
              "      <td>1.0</td>\n",
              "      <td>0.0</td>\n",
              "      <td>1.0</td>\n",
              "      <td>1.0</td>\n",
              "      <td>1.0</td>\n",
              "      <td>1.0</td>\n",
              "      <td>1.0</td>\n",
              "    </tr>\n",
              "    <tr>\n",
              "      <th>7</th>\n",
              "      <td>lift_top_group</td>\n",
              "      <td>2.0050676</td>\n",
              "      <td>0.05086038</td>\n",
              "      <td>1.9193858</td>\n",
              "      <td>2.0408163</td>\n",
              "      <td>2.0387359</td>\n",
              "      <td>1.998002</td>\n",
              "      <td>2.0283976</td>\n",
              "    </tr>\n",
              "    <tr>\n",
              "      <th>8</th>\n",
              "      <td>logloss</td>\n",
              "      <td>9.1495534E-4</td>\n",
              "      <td>9.552837E-5</td>\n",
              "      <td>8.0975116E-4</td>\n",
              "      <td>8.227095E-4</td>\n",
              "      <td>0.00102104</td>\n",
              "      <td>9.880031E-4</td>\n",
              "      <td>9.332727E-4</td>\n",
              "    </tr>\n",
              "    <tr>\n",
              "      <th>9</th>\n",
              "      <td>max_per_class_error</td>\n",
              "      <td>0.0</td>\n",
              "      <td>0.0</td>\n",
              "      <td>0.0</td>\n",
              "      <td>0.0</td>\n",
              "      <td>0.0</td>\n",
              "      <td>0.0</td>\n",
              "      <td>0.0</td>\n",
              "    </tr>\n",
              "    <tr>\n",
              "      <th>10</th>\n",
              "      <td>mcc</td>\n",
              "      <td>1.0</td>\n",
              "      <td>0.0</td>\n",
              "      <td>1.0</td>\n",
              "      <td>1.0</td>\n",
              "      <td>1.0</td>\n",
              "      <td>1.0</td>\n",
              "      <td>1.0</td>\n",
              "    </tr>\n",
              "    <tr>\n",
              "      <th>11</th>\n",
              "      <td>mean_per_class_accuracy</td>\n",
              "      <td>1.0</td>\n",
              "      <td>0.0</td>\n",
              "      <td>1.0</td>\n",
              "      <td>1.0</td>\n",
              "      <td>1.0</td>\n",
              "      <td>1.0</td>\n",
              "      <td>1.0</td>\n",
              "    </tr>\n",
              "    <tr>\n",
              "      <th>12</th>\n",
              "      <td>mean_per_class_error</td>\n",
              "      <td>0.0</td>\n",
              "      <td>0.0</td>\n",
              "      <td>0.0</td>\n",
              "      <td>0.0</td>\n",
              "      <td>0.0</td>\n",
              "      <td>0.0</td>\n",
              "      <td>0.0</td>\n",
              "    </tr>\n",
              "    <tr>\n",
              "      <th>13</th>\n",
              "      <td>mse</td>\n",
              "      <td>6.968149E-6</td>\n",
              "      <td>2.6271944E-6</td>\n",
              "      <td>4.420033E-6</td>\n",
              "      <td>5.3463705E-6</td>\n",
              "      <td>8.343661E-6</td>\n",
              "      <td>1.0884191E-5</td>\n",
              "      <td>5.8464893E-6</td>\n",
              "    </tr>\n",
              "    <tr>\n",
              "      <th>14</th>\n",
              "      <td>pr_auc</td>\n",
              "      <td>1.0</td>\n",
              "      <td>0.0</td>\n",
              "      <td>1.0</td>\n",
              "      <td>1.0</td>\n",
              "      <td>1.0</td>\n",
              "      <td>1.0</td>\n",
              "      <td>1.0</td>\n",
              "    </tr>\n",
              "    <tr>\n",
              "      <th>15</th>\n",
              "      <td>precision</td>\n",
              "      <td>1.0</td>\n",
              "      <td>0.0</td>\n",
              "      <td>1.0</td>\n",
              "      <td>1.0</td>\n",
              "      <td>1.0</td>\n",
              "      <td>1.0</td>\n",
              "      <td>1.0</td>\n",
              "    </tr>\n",
              "    <tr>\n",
              "      <th>16</th>\n",
              "      <td>r2</td>\n",
              "      <td>0.9999721</td>\n",
              "      <td>1.0500995E-5</td>\n",
              "      <td>0.9999823</td>\n",
              "      <td>0.9999786</td>\n",
              "      <td>0.9999666</td>\n",
              "      <td>0.9999565</td>\n",
              "      <td>0.99997663</td>\n",
              "    </tr>\n",
              "    <tr>\n",
              "      <th>17</th>\n",
              "      <td>recall</td>\n",
              "      <td>1.0</td>\n",
              "      <td>0.0</td>\n",
              "      <td>1.0</td>\n",
              "      <td>1.0</td>\n",
              "      <td>1.0</td>\n",
              "      <td>1.0</td>\n",
              "      <td>1.0</td>\n",
              "    </tr>\n",
              "    <tr>\n",
              "      <th>18</th>\n",
              "      <td>rmse</td>\n",
              "      <td>0.002604044</td>\n",
              "      <td>4.8361087E-4</td>\n",
              "      <td>0.0021023874</td>\n",
              "      <td>0.002312222</td>\n",
              "      <td>0.0028885396</td>\n",
              "      <td>0.0032991199</td>\n",
              "      <td>0.0024179516</td>\n",
              "    </tr>\n",
              "    <tr>\n",
              "      <th>19</th>\n",
              "      <td>specificity</td>\n",
              "      <td>1.0</td>\n",
              "      <td>0.0</td>\n",
              "      <td>1.0</td>\n",
              "      <td>1.0</td>\n",
              "      <td>1.0</td>\n",
              "      <td>1.0</td>\n",
              "      <td>1.0</td>\n",
              "    </tr>\n",
              "  </tbody>\n",
              "</table>\n",
              "</div>"
            ],
            "text/plain": [
              "                                     mean  ...    cv_4_valid    cv_5_valid\n",
              "0                  accuracy           1.0  ...           1.0           1.0\n",
              "1                       auc           1.0  ...           1.0           1.0\n",
              "2                       err           0.0  ...           0.0           0.0\n",
              "3                 err_count           0.0  ...           0.0           0.0\n",
              "4                  f0point5           1.0  ...           1.0           1.0\n",
              "5                        f1           1.0  ...           1.0           1.0\n",
              "6                        f2           1.0  ...           1.0           1.0\n",
              "7            lift_top_group     2.0050676  ...      1.998002     2.0283976\n",
              "8                   logloss  9.1495534E-4  ...   9.880031E-4   9.332727E-4\n",
              "9       max_per_class_error           0.0  ...           0.0           0.0\n",
              "10                      mcc           1.0  ...           1.0           1.0\n",
              "11  mean_per_class_accuracy           1.0  ...           1.0           1.0\n",
              "12     mean_per_class_error           0.0  ...           0.0           0.0\n",
              "13                      mse   6.968149E-6  ...  1.0884191E-5  5.8464893E-6\n",
              "14                   pr_auc           1.0  ...           1.0           1.0\n",
              "15                precision           1.0  ...           1.0           1.0\n",
              "16                       r2     0.9999721  ...     0.9999565    0.99997663\n",
              "17                   recall           1.0  ...           1.0           1.0\n",
              "18                     rmse   0.002604044  ...  0.0032991199  0.0024179516\n",
              "19              specificity           1.0  ...           1.0           1.0\n",
              "\n",
              "[20 rows x 8 columns]"
            ]
          },
          "metadata": {}
        },
        {
          "output_type": "stream",
          "text": [
            "\n",
            "Scoring History: \n"
          ],
          "name": "stdout"
        },
        {
          "output_type": "display_data",
          "data": {
            "text/html": [
              "<div>\n",
              "<style scoped>\n",
              "    .dataframe tbody tr th:only-of-type {\n",
              "        vertical-align: middle;\n",
              "    }\n",
              "\n",
              "    .dataframe tbody tr th {\n",
              "        vertical-align: top;\n",
              "    }\n",
              "\n",
              "    .dataframe thead th {\n",
              "        text-align: right;\n",
              "    }\n",
              "</style>\n",
              "<table border=\"1\" class=\"dataframe\">\n",
              "  <thead>\n",
              "    <tr style=\"text-align: right;\">\n",
              "      <th></th>\n",
              "      <th></th>\n",
              "      <th>timestamp</th>\n",
              "      <th>duration</th>\n",
              "      <th>number_of_trees</th>\n",
              "      <th>training_rmse</th>\n",
              "      <th>training_logloss</th>\n",
              "      <th>training_auc</th>\n",
              "      <th>training_pr_auc</th>\n",
              "      <th>training_lift</th>\n",
              "      <th>training_classification_error</th>\n",
              "    </tr>\n",
              "  </thead>\n",
              "  <tbody>\n",
              "    <tr>\n",
              "      <th>0</th>\n",
              "      <td></td>\n",
              "      <td>2021-08-20 14:08:14</td>\n",
              "      <td>1 min 11.862 sec</td>\n",
              "      <td>0.0</td>\n",
              "      <td>0.500000</td>\n",
              "      <td>0.693147</td>\n",
              "      <td>0.5</td>\n",
              "      <td>0.499</td>\n",
              "      <td>1.000000</td>\n",
              "      <td>0.501</td>\n",
              "    </tr>\n",
              "    <tr>\n",
              "      <th>1</th>\n",
              "      <td></td>\n",
              "      <td>2021-08-20 14:08:14</td>\n",
              "      <td>1 min 11.898 sec</td>\n",
              "      <td>5.0</td>\n",
              "      <td>0.170923</td>\n",
              "      <td>0.178735</td>\n",
              "      <td>1.0</td>\n",
              "      <td>1.000</td>\n",
              "      <td>2.004008</td>\n",
              "      <td>0.000</td>\n",
              "    </tr>\n",
              "    <tr>\n",
              "      <th>2</th>\n",
              "      <td></td>\n",
              "      <td>2021-08-20 14:08:14</td>\n",
              "      <td>1 min 11.926 sec</td>\n",
              "      <td>10.0</td>\n",
              "      <td>0.104369</td>\n",
              "      <td>0.096101</td>\n",
              "      <td>1.0</td>\n",
              "      <td>1.000</td>\n",
              "      <td>2.004008</td>\n",
              "      <td>0.000</td>\n",
              "    </tr>\n",
              "    <tr>\n",
              "      <th>3</th>\n",
              "      <td></td>\n",
              "      <td>2021-08-20 14:08:14</td>\n",
              "      <td>1 min 12.088 sec</td>\n",
              "      <td>15.0</td>\n",
              "      <td>0.050787</td>\n",
              "      <td>0.038358</td>\n",
              "      <td>1.0</td>\n",
              "      <td>1.000</td>\n",
              "      <td>2.004008</td>\n",
              "      <td>0.000</td>\n",
              "    </tr>\n",
              "    <tr>\n",
              "      <th>4</th>\n",
              "      <td></td>\n",
              "      <td>2021-08-20 14:08:14</td>\n",
              "      <td>1 min 12.151 sec</td>\n",
              "      <td>20.0</td>\n",
              "      <td>0.036921</td>\n",
              "      <td>0.022851</td>\n",
              "      <td>1.0</td>\n",
              "      <td>1.000</td>\n",
              "      <td>2.004008</td>\n",
              "      <td>0.000</td>\n",
              "    </tr>\n",
              "    <tr>\n",
              "      <th>5</th>\n",
              "      <td></td>\n",
              "      <td>2021-08-20 14:08:14</td>\n",
              "      <td>1 min 12.204 sec</td>\n",
              "      <td>25.0</td>\n",
              "      <td>0.021729</td>\n",
              "      <td>0.012036</td>\n",
              "      <td>1.0</td>\n",
              "      <td>1.000</td>\n",
              "      <td>2.004008</td>\n",
              "      <td>0.000</td>\n",
              "    </tr>\n",
              "    <tr>\n",
              "      <th>6</th>\n",
              "      <td></td>\n",
              "      <td>2021-08-20 14:08:14</td>\n",
              "      <td>1 min 12.246 sec</td>\n",
              "      <td>30.0</td>\n",
              "      <td>0.015127</td>\n",
              "      <td>0.008145</td>\n",
              "      <td>1.0</td>\n",
              "      <td>1.000</td>\n",
              "      <td>2.004008</td>\n",
              "      <td>0.000</td>\n",
              "    </tr>\n",
              "    <tr>\n",
              "      <th>7</th>\n",
              "      <td></td>\n",
              "      <td>2021-08-20 14:08:14</td>\n",
              "      <td>1 min 12.291 sec</td>\n",
              "      <td>35.0</td>\n",
              "      <td>0.011373</td>\n",
              "      <td>0.006026</td>\n",
              "      <td>1.0</td>\n",
              "      <td>1.000</td>\n",
              "      <td>2.004008</td>\n",
              "      <td>0.000</td>\n",
              "    </tr>\n",
              "    <tr>\n",
              "      <th>8</th>\n",
              "      <td></td>\n",
              "      <td>2021-08-20 14:08:14</td>\n",
              "      <td>1 min 12.330 sec</td>\n",
              "      <td>40.0</td>\n",
              "      <td>0.009944</td>\n",
              "      <td>0.005173</td>\n",
              "      <td>1.0</td>\n",
              "      <td>1.000</td>\n",
              "      <td>2.004008</td>\n",
              "      <td>0.000</td>\n",
              "    </tr>\n",
              "    <tr>\n",
              "      <th>9</th>\n",
              "      <td></td>\n",
              "      <td>2021-08-20 14:08:14</td>\n",
              "      <td>1 min 12.381 sec</td>\n",
              "      <td>45.0</td>\n",
              "      <td>0.008608</td>\n",
              "      <td>0.004427</td>\n",
              "      <td>1.0</td>\n",
              "      <td>1.000</td>\n",
              "      <td>2.004008</td>\n",
              "      <td>0.000</td>\n",
              "    </tr>\n",
              "    <tr>\n",
              "      <th>10</th>\n",
              "      <td></td>\n",
              "      <td>2021-08-20 14:08:14</td>\n",
              "      <td>1 min 12.430 sec</td>\n",
              "      <td>50.0</td>\n",
              "      <td>0.007177</td>\n",
              "      <td>0.003641</td>\n",
              "      <td>1.0</td>\n",
              "      <td>1.000</td>\n",
              "      <td>2.004008</td>\n",
              "      <td>0.000</td>\n",
              "    </tr>\n",
              "    <tr>\n",
              "      <th>11</th>\n",
              "      <td></td>\n",
              "      <td>2021-08-20 14:08:15</td>\n",
              "      <td>1 min 12.481 sec</td>\n",
              "      <td>55.0</td>\n",
              "      <td>0.006300</td>\n",
              "      <td>0.003268</td>\n",
              "      <td>1.0</td>\n",
              "      <td>1.000</td>\n",
              "      <td>2.004008</td>\n",
              "      <td>0.000</td>\n",
              "    </tr>\n",
              "    <tr>\n",
              "      <th>12</th>\n",
              "      <td></td>\n",
              "      <td>2021-08-20 14:08:15</td>\n",
              "      <td>1 min 12.536 sec</td>\n",
              "      <td>60.0</td>\n",
              "      <td>0.005840</td>\n",
              "      <td>0.003036</td>\n",
              "      <td>1.0</td>\n",
              "      <td>1.000</td>\n",
              "      <td>2.004008</td>\n",
              "      <td>0.000</td>\n",
              "    </tr>\n",
              "    <tr>\n",
              "      <th>13</th>\n",
              "      <td></td>\n",
              "      <td>2021-08-20 14:08:15</td>\n",
              "      <td>1 min 12.594 sec</td>\n",
              "      <td>65.0</td>\n",
              "      <td>0.005254</td>\n",
              "      <td>0.002613</td>\n",
              "      <td>1.0</td>\n",
              "      <td>1.000</td>\n",
              "      <td>2.004008</td>\n",
              "      <td>0.000</td>\n",
              "    </tr>\n",
              "    <tr>\n",
              "      <th>14</th>\n",
              "      <td></td>\n",
              "      <td>2021-08-20 14:08:15</td>\n",
              "      <td>1 min 12.647 sec</td>\n",
              "      <td>70.0</td>\n",
              "      <td>0.004936</td>\n",
              "      <td>0.002347</td>\n",
              "      <td>1.0</td>\n",
              "      <td>1.000</td>\n",
              "      <td>2.004008</td>\n",
              "      <td>0.000</td>\n",
              "    </tr>\n",
              "    <tr>\n",
              "      <th>15</th>\n",
              "      <td></td>\n",
              "      <td>2021-08-20 14:08:15</td>\n",
              "      <td>1 min 12.703 sec</td>\n",
              "      <td>75.0</td>\n",
              "      <td>0.004543</td>\n",
              "      <td>0.002127</td>\n",
              "      <td>1.0</td>\n",
              "      <td>1.000</td>\n",
              "      <td>2.004008</td>\n",
              "      <td>0.000</td>\n",
              "    </tr>\n",
              "    <tr>\n",
              "      <th>16</th>\n",
              "      <td></td>\n",
              "      <td>2021-08-20 14:08:15</td>\n",
              "      <td>1 min 12.756 sec</td>\n",
              "      <td>80.0</td>\n",
              "      <td>0.004036</td>\n",
              "      <td>0.001921</td>\n",
              "      <td>1.0</td>\n",
              "      <td>1.000</td>\n",
              "      <td>2.004008</td>\n",
              "      <td>0.000</td>\n",
              "    </tr>\n",
              "    <tr>\n",
              "      <th>17</th>\n",
              "      <td></td>\n",
              "      <td>2021-08-20 14:08:15</td>\n",
              "      <td>1 min 12.821 sec</td>\n",
              "      <td>85.0</td>\n",
              "      <td>0.003783</td>\n",
              "      <td>0.001809</td>\n",
              "      <td>1.0</td>\n",
              "      <td>1.000</td>\n",
              "      <td>2.004008</td>\n",
              "      <td>0.000</td>\n",
              "    </tr>\n",
              "    <tr>\n",
              "      <th>18</th>\n",
              "      <td></td>\n",
              "      <td>2021-08-20 14:08:15</td>\n",
              "      <td>1 min 12.889 sec</td>\n",
              "      <td>90.0</td>\n",
              "      <td>0.003497</td>\n",
              "      <td>0.001703</td>\n",
              "      <td>1.0</td>\n",
              "      <td>1.000</td>\n",
              "      <td>2.004008</td>\n",
              "      <td>0.000</td>\n",
              "    </tr>\n",
              "    <tr>\n",
              "      <th>19</th>\n",
              "      <td></td>\n",
              "      <td>2021-08-20 14:08:15</td>\n",
              "      <td>1 min 12.965 sec</td>\n",
              "      <td>95.0</td>\n",
              "      <td>0.003418</td>\n",
              "      <td>0.001607</td>\n",
              "      <td>1.0</td>\n",
              "      <td>1.000</td>\n",
              "      <td>2.004008</td>\n",
              "      <td>0.000</td>\n",
              "    </tr>\n",
              "  </tbody>\n",
              "</table>\n",
              "</div>"
            ],
            "text/plain": [
              "                timestamp  ... training_lift  training_classification_error\n",
              "0     2021-08-20 14:08:14  ...      1.000000                          0.501\n",
              "1     2021-08-20 14:08:14  ...      2.004008                          0.000\n",
              "2     2021-08-20 14:08:14  ...      2.004008                          0.000\n",
              "3     2021-08-20 14:08:14  ...      2.004008                          0.000\n",
              "4     2021-08-20 14:08:14  ...      2.004008                          0.000\n",
              "5     2021-08-20 14:08:14  ...      2.004008                          0.000\n",
              "6     2021-08-20 14:08:14  ...      2.004008                          0.000\n",
              "7     2021-08-20 14:08:14  ...      2.004008                          0.000\n",
              "8     2021-08-20 14:08:14  ...      2.004008                          0.000\n",
              "9     2021-08-20 14:08:14  ...      2.004008                          0.000\n",
              "10    2021-08-20 14:08:14  ...      2.004008                          0.000\n",
              "11    2021-08-20 14:08:15  ...      2.004008                          0.000\n",
              "12    2021-08-20 14:08:15  ...      2.004008                          0.000\n",
              "13    2021-08-20 14:08:15  ...      2.004008                          0.000\n",
              "14    2021-08-20 14:08:15  ...      2.004008                          0.000\n",
              "15    2021-08-20 14:08:15  ...      2.004008                          0.000\n",
              "16    2021-08-20 14:08:15  ...      2.004008                          0.000\n",
              "17    2021-08-20 14:08:15  ...      2.004008                          0.000\n",
              "18    2021-08-20 14:08:15  ...      2.004008                          0.000\n",
              "19    2021-08-20 14:08:15  ...      2.004008                          0.000\n",
              "\n",
              "[20 rows x 10 columns]"
            ]
          },
          "metadata": {}
        },
        {
          "output_type": "stream",
          "text": [
            "\n",
            "See the whole table with table.as_data_frame()\n",
            "\n",
            "Variable Importances: \n"
          ],
          "name": "stdout"
        },
        {
          "output_type": "display_data",
          "data": {
            "text/html": [
              "<div>\n",
              "<style scoped>\n",
              "    .dataframe tbody tr th:only-of-type {\n",
              "        vertical-align: middle;\n",
              "    }\n",
              "\n",
              "    .dataframe tbody tr th {\n",
              "        vertical-align: top;\n",
              "    }\n",
              "\n",
              "    .dataframe thead th {\n",
              "        text-align: right;\n",
              "    }\n",
              "</style>\n",
              "<table border=\"1\" class=\"dataframe\">\n",
              "  <thead>\n",
              "    <tr style=\"text-align: right;\">\n",
              "      <th></th>\n",
              "      <th>variable</th>\n",
              "      <th>relative_importance</th>\n",
              "      <th>scaled_importance</th>\n",
              "      <th>percentage</th>\n",
              "    </tr>\n",
              "  </thead>\n",
              "  <tbody>\n",
              "    <tr>\n",
              "      <th>0</th>\n",
              "      <td>Oxy</td>\n",
              "      <td>14569.193359</td>\n",
              "      <td>1.000000</td>\n",
              "      <td>0.684293</td>\n",
              "    </tr>\n",
              "    <tr>\n",
              "      <th>1</th>\n",
              "      <td>Temp</td>\n",
              "      <td>4362.531250</td>\n",
              "      <td>0.299435</td>\n",
              "      <td>0.204902</td>\n",
              "    </tr>\n",
              "    <tr>\n",
              "      <th>2</th>\n",
              "      <td>Pulse</td>\n",
              "      <td>2313.300537</td>\n",
              "      <td>0.158780</td>\n",
              "      <td>0.108652</td>\n",
              "    </tr>\n",
              "    <tr>\n",
              "      <th>3</th>\n",
              "      <td>ID</td>\n",
              "      <td>45.837563</td>\n",
              "      <td>0.003146</td>\n",
              "      <td>0.002153</td>\n",
              "    </tr>\n",
              "  </tbody>\n",
              "</table>\n",
              "</div>"
            ],
            "text/plain": [
              "  variable  relative_importance  scaled_importance  percentage\n",
              "0      Oxy         14569.193359           1.000000    0.684293\n",
              "1     Temp          4362.531250           0.299435    0.204902\n",
              "2    Pulse          2313.300537           0.158780    0.108652\n",
              "3       ID            45.837563           0.003146    0.002153"
            ]
          },
          "metadata": {}
        },
        {
          "output_type": "stream",
          "text": [
            "<bound method ModelBase.gini of >\n"
          ],
          "name": "stdout"
        }
      ]
    },
    {
      "cell_type": "code",
      "metadata": {
        "colab": {
          "base_uri": "https://localhost:8080/"
        },
        "id": "9enKaHGdEB-P",
        "outputId": "ef3167b1-c138-46b2-bd56-3281bb5a2266"
      },
      "source": [
        "mod_best2=h2o.get_model(model_set[1])\n",
        "mod_best2.auc()"
      ],
      "execution_count": null,
      "outputs": [
        {
          "output_type": "execute_result",
          "data": {
            "text/plain": [
              "1.0"
            ]
          },
          "metadata": {},
          "execution_count": 361
        }
      ]
    },
    {
      "cell_type": "code",
      "metadata": {
        "colab": {
          "base_uri": "https://localhost:8080/"
        },
        "id": "KhTi58EXEYqP",
        "outputId": "2918517b-fdfa-4fe8-f27a-5942868a8eb0"
      },
      "source": [
        "mod_best2.algo"
      ],
      "execution_count": null,
      "outputs": [
        {
          "output_type": "execute_result",
          "data": {
            "application/vnd.google.colaboratory.intrinsic+json": {
              "type": "string"
            },
            "text/plain": [
              "'xgboost'"
            ]
          },
          "metadata": {},
          "execution_count": 362
        }
      ]
    },
    {
      "cell_type": "code",
      "metadata": {
        "id": "rv1vt_YGEaLH"
      },
      "source": [
        "# h2o.export_file(pred_H2O, \"predict.csv\", force=True)"
      ],
      "execution_count": null,
      "outputs": []
    },
    {
      "cell_type": "code",
      "metadata": {
        "id": "PKaAHMM9zn-W"
      },
      "source": [
        ""
      ],
      "execution_count": null,
      "outputs": []
    }
  ]
}